{
  "cells": [
    {
      "cell_type": "markdown",
      "metadata": {
        "id": "view-in-github",
        "colab_type": "text"
      },
      "source": [
        "<a href=\"https://colab.research.google.com/github/yeshika-b/Recognising-Handwritten-Digits-Artificial-Neural-Networks/blob/main/ML_Assignment_2_ANN.ipynb\" target=\"_parent\"><img src=\"https://colab.research.google.com/assets/colab-badge.svg\" alt=\"Open In Colab\"/></a>"
      ]
    },
    {
      "cell_type": "code",
      "execution_count": null,
      "metadata": {
        "id": "o66uxPfR-Av6"
      },
      "outputs": [],
      "source": [
        "# Importing the libraries\n",
        "import pandas as pd\n",
        "import numpy as np\n",
        "from tensorflow import keras\n",
        "from tensorflow import math\n",
        "from tensorflow.keras import layers\n",
        "from sklearn.model_selection import train_test_split\n",
        "from sklearn.metrics import confusion_matrix\n",
        "from keras.datasets import mnist"
      ]
    },
    {
      "cell_type": "code",
      "execution_count": null,
      "metadata": {
        "colab": {
          "base_uri": "https://localhost:8080/"
        },
        "id": "pf1LoeVm-jU8",
        "outputId": "3d65a0d8-f266-45af-e7d1-7f575e63cb8f"
      },
      "outputs": [
        {
          "output_type": "stream",
          "name": "stdout",
          "text": [
            "Downloading data from https://storage.googleapis.com/tensorflow/tf-keras-datasets/mnist.npz\n",
            "11490434/11490434 [==============================] - 0s 0us/step\n"
          ]
        }
      ],
      "source": [
        "(x_train, y_train), (x_test, y_test) = mnist.load_data()\n",
        "X = np.concatenate([x_train, x_test])\n",
        "y = np.concatenate([y_train, y_test])\n",
        "X=X/255"
      ]
    },
    {
      "cell_type": "code",
      "execution_count": null,
      "metadata": {
        "id": "XETCVmO0_Dcz"
      },
      "outputs": [],
      "source": [
        "X_train, X_test, y_train, y_test = train_test_split(X, y, test_size=0.33, random_state=42, shuffle=True)"
      ]
    },
    {
      "cell_type": "code",
      "execution_count": null,
      "metadata": {
        "id": "kafUra-HD16-"
      },
      "outputs": [],
      "source": [
        "X_train_flat=X_train.reshape(len(X_train),28*28)\n",
        "X_test_flat=X_test.reshape(len(X_test),28*28)"
      ]
    },
    {
      "cell_type": "markdown",
      "metadata": {
        "id": "fNgU7bmRIQwR"
      },
      "source": [
        "## M1"
      ]
    },
    {
      "cell_type": "code",
      "execution_count": null,
      "metadata": {
        "colab": {
          "base_uri": "https://localhost:8080/"
        },
        "id": "K-3UHtqYEfq5",
        "outputId": "69036383-2bbb-449e-955c-46e6d9c053d6"
      },
      "outputs": [
        {
          "output_type": "stream",
          "name": "stdout",
          "text": [
            "Epoch 1/10\n",
            "1466/1466 [==============================] - 6s 3ms/step - loss: 0.3259 - accuracy: 0.9052\n",
            "Epoch 2/10\n",
            "1466/1466 [==============================] - 7s 4ms/step - loss: 0.1547 - accuracy: 0.9546\n",
            "Epoch 3/10\n",
            "1466/1466 [==============================] - 4s 2ms/step - loss: 0.1144 - accuracy: 0.9652\n",
            "Epoch 4/10\n",
            "1466/1466 [==============================] - 3s 2ms/step - loss: 0.0906 - accuracy: 0.9723\n",
            "Epoch 5/10\n",
            "1466/1466 [==============================] - 3s 2ms/step - loss: 0.0743 - accuracy: 0.9769\n",
            "Epoch 6/10\n",
            "1466/1466 [==============================] - 7s 4ms/step - loss: 0.0626 - accuracy: 0.9803\n",
            "Epoch 7/10\n",
            "1466/1466 [==============================] - 3s 2ms/step - loss: 0.0551 - accuracy: 0.9826\n",
            "Epoch 8/10\n",
            "1466/1466 [==============================] - 3s 2ms/step - loss: 0.0470 - accuracy: 0.9854\n",
            "Epoch 9/10\n",
            "1466/1466 [==============================] - 4s 3ms/step - loss: 0.0389 - accuracy: 0.9877\n",
            "Epoch 10/10\n",
            "1466/1466 [==============================] - 3s 2ms/step - loss: 0.0358 - accuracy: 0.9883\n"
          ]
        },
        {
          "output_type": "execute_result",
          "data": {
            "text/plain": [
              "<keras.callbacks.History at 0x7f2e004cb2e0>"
            ]
          },
          "metadata": {},
          "execution_count": 5
        }
      ],
      "source": [
        "# Defining the model\n",
        "model1 = keras.Sequential([\n",
        "    keras.layers.Dense(50, input_shape=(28*28,), activation='relu'),\n",
        "    keras.layers.Dense(50, activation='relu'),\n",
        "    keras.layers.Dense(10, activation='sigmoid')\n",
        "])\n",
        "\n",
        "# Compiling the model\n",
        "model1.compile(optimizer='adam',\n",
        "              loss=keras.losses.SparseCategoricalCrossentropy(),\n",
        "              metrics=['accuracy'])\n",
        "\n",
        "# fitting the model\n",
        "model1.fit(X_train_flat, y_train, epochs=10)"
      ]
    },
    {
      "cell_type": "code",
      "execution_count": null,
      "metadata": {
        "colab": {
          "base_uri": "https://localhost:8080/"
        },
        "id": "I_Rt8QDUHtcz",
        "outputId": "6087f6fa-153d-4667-aeb5-bed0b0006247"
      },
      "outputs": [
        {
          "name": "stdout",
          "output_type": "stream",
          "text": [
            "722/722 [==============================] - 1s 2ms/step - loss: 0.1245 - accuracy: 0.9678\n"
          ]
        }
      ],
      "source": [
        "l,a=model1.evaluate(X_test_flat,y_test)"
      ]
    },
    {
      "cell_type": "code",
      "execution_count": null,
      "metadata": {
        "colab": {
          "base_uri": "https://localhost:8080/"
        },
        "id": "OM2yf1jZU0-c",
        "outputId": "eb128c62-6bac-479d-9353-97416417ec48"
      },
      "outputs": [
        {
          "data": {
            "text/plain": [
              "0.9678354859352112"
            ]
          },
          "execution_count": 7,
          "metadata": {},
          "output_type": "execute_result"
        }
      ],
      "source": [
        "a"
      ]
    },
    {
      "cell_type": "code",
      "execution_count": null,
      "metadata": {
        "colab": {
          "base_uri": "https://localhost:8080/",
          "height": 252
        },
        "id": "9DQeJWa8Yuy8",
        "outputId": "cecca2af-ed07-4072-9e66-b771732cb71b"
      },
      "outputs": [
        {
          "name": "stdout",
          "output_type": "stream",
          "text": [
            "722/722 [==============================] - 1s 1ms/step\n"
          ]
        },
        {
          "ename": "AttributeError",
          "evalue": "ignored",
          "output_type": "error",
          "traceback": [
            "\u001b[0;31m---------------------------------------------------------------------------\u001b[0m",
            "\u001b[0;31mAttributeError\u001b[0m                            Traceback (most recent call last)",
            "\u001b[0;32m<ipython-input-8-2bc75d9e52e9>\u001b[0m in \u001b[0;36m<cell line: 4>\u001b[0;34m()\u001b[0m\n\u001b[1;32m      2\u001b[0m \u001b[0my_pred_labels\u001b[0m\u001b[0;34m=\u001b[0m\u001b[0;34m[\u001b[0m\u001b[0mnp\u001b[0m\u001b[0;34m.\u001b[0m\u001b[0margmax\u001b[0m\u001b[0;34m(\u001b[0m\u001b[0mi\u001b[0m\u001b[0;34m)\u001b[0m \u001b[0;32mfor\u001b[0m \u001b[0mi\u001b[0m \u001b[0;32min\u001b[0m \u001b[0my_pred\u001b[0m\u001b[0;34m]\u001b[0m\u001b[0;34m\u001b[0m\u001b[0;34m\u001b[0m\u001b[0m\n\u001b[1;32m      3\u001b[0m \u001b[0mcom\u001b[0m\u001b[0;34m=\u001b[0m\u001b[0mmath\u001b[0m\u001b[0;34m.\u001b[0m\u001b[0mconfusion_matrix\u001b[0m\u001b[0;34m(\u001b[0m\u001b[0mlabels\u001b[0m\u001b[0;34m=\u001b[0m\u001b[0my_test\u001b[0m\u001b[0;34m,\u001b[0m\u001b[0mpredictions\u001b[0m\u001b[0;34m=\u001b[0m\u001b[0my_pred_labels\u001b[0m\u001b[0;34m)\u001b[0m\u001b[0;34m\u001b[0m\u001b[0;34m\u001b[0m\u001b[0m\n\u001b[0;32m----> 4\u001b[0;31m \u001b[0mFP\u001b[0m \u001b[0;34m=\u001b[0m \u001b[0mconfusion_matrix\u001b[0m\u001b[0;34m.\u001b[0m\u001b[0msum\u001b[0m\u001b[0;34m(\u001b[0m\u001b[0maxis\u001b[0m\u001b[0;34m=\u001b[0m\u001b[0;36m0\u001b[0m\u001b[0;34m)\u001b[0m \u001b[0;34m-\u001b[0m \u001b[0mnp\u001b[0m\u001b[0;34m.\u001b[0m\u001b[0mdiag\u001b[0m\u001b[0;34m(\u001b[0m\u001b[0mconfusion_matrix\u001b[0m\u001b[0;34m)\u001b[0m\u001b[0;34m\u001b[0m\u001b[0;34m\u001b[0m\u001b[0m\n\u001b[0m\u001b[1;32m      5\u001b[0m \u001b[0mFN\u001b[0m \u001b[0;34m=\u001b[0m \u001b[0mconfusion_matrix\u001b[0m\u001b[0;34m.\u001b[0m\u001b[0msum\u001b[0m\u001b[0;34m(\u001b[0m\u001b[0maxis\u001b[0m\u001b[0;34m=\u001b[0m\u001b[0;36m1\u001b[0m\u001b[0;34m)\u001b[0m \u001b[0;34m-\u001b[0m \u001b[0mnp\u001b[0m\u001b[0;34m.\u001b[0m\u001b[0mdiag\u001b[0m\u001b[0;34m(\u001b[0m\u001b[0mconfusion_matrix\u001b[0m\u001b[0;34m)\u001b[0m\u001b[0;34m\u001b[0m\u001b[0;34m\u001b[0m\u001b[0m\n\u001b[1;32m      6\u001b[0m \u001b[0mTP\u001b[0m \u001b[0;34m=\u001b[0m \u001b[0mnp\u001b[0m\u001b[0;34m.\u001b[0m\u001b[0mdiag\u001b[0m\u001b[0;34m(\u001b[0m\u001b[0mconfusion_matrix\u001b[0m\u001b[0;34m)\u001b[0m\u001b[0;34m\u001b[0m\u001b[0;34m\u001b[0m\u001b[0m\n",
            "\u001b[0;31mAttributeError\u001b[0m: 'function' object has no attribute 'sum'"
          ]
        }
      ],
      "source": [
        "#y_pred=model1.predict(X_test_flat)\n",
        "# y_pred_labels=[np.argmax(i) for i in y_pred]\n",
        "# com=math.confusion_matrix(labels=y_test,predictions=y_pred_labels)\n",
        "# FP = confusion_matrix.sum(axis=0) - np.diag(confusion_matrix)\n",
        "# FN = confusion_matrix.sum(axis=1) - np.diag(confusion_matrix)\n",
        "# TP = np.diag(confusion_matrix)\n",
        "# TN = confusion_matrix.values.sum() - (FP + FN + TP)\n"
      ]
    },
    {
      "cell_type": "code",
      "execution_count": null,
      "metadata": {
        "colab": {
          "base_uri": "https://localhost:8080/"
        },
        "id": "rT2Tn_0SNmRa",
        "outputId": "03f5b422-125f-458e-ee3f-6906df55c1d8"
      },
      "outputs": [
        {
          "output_type": "execute_result",
          "data": {
            "text/plain": [
              "array([[1.9821041e-06, 1.4339979e-05, 8.6933011e-01, ..., 1.6045241e-06,\n",
              "        9.9999857e-01, 1.5904125e-03],\n",
              "       [5.7766113e-07, 7.5012945e-06, 1.9116183e-07, ..., 8.2250965e-01,\n",
              "        1.4581335e-04, 2.7127180e-01],\n",
              "       [1.3851385e-02, 2.2918135e-03, 5.9477404e-02, ..., 1.6933331e-03,\n",
              "        9.8966581e-01, 4.9693968e-02],\n",
              "       ...,\n",
              "       [8.5824304e-06, 7.0281118e-01, 4.0209219e-01, ..., 9.9999970e-01,\n",
              "        7.4270865e-06, 1.0202105e-01],\n",
              "       [1.3498734e-02, 3.8644961e-05, 9.9999738e-01, ..., 1.3168114e-02,\n",
              "        7.7862297e-03, 1.1979619e-06],\n",
              "       [5.8335034e-05, 1.0292832e-06, 5.4238459e-08, ..., 1.0878544e-04,\n",
              "        9.7738194e-01, 7.8039140e-01]], dtype=float32)"
            ]
          },
          "metadata": {},
          "execution_count": 25
        }
      ],
      "source": [
        "y_pred\n"
      ]
    },
    {
      "cell_type": "code",
      "execution_count": null,
      "metadata": {
        "colab": {
          "base_uri": "https://localhost:8080/"
        },
        "id": "P_1XSSVrbjgx",
        "outputId": "0c179d2f-cdc4-4f32-c55b-b7719ec3ab51"
      },
      "outputs": [
        {
          "output_type": "stream",
          "name": "stdout",
          "text": [
            "722/722 [==============================] - 1s 2ms/step\n"
          ]
        }
      ],
      "source": [
        "y_pred=model1.predict(X_test_flat)"
      ]
    },
    {
      "cell_type": "code",
      "execution_count": null,
      "metadata": {
        "id": "EH2WqZy9XszZ"
      },
      "outputs": [],
      "source": [
        "def getNumberPred(y_pred):\n",
        "  y_pred_number=pd.DataFrame(np.zeros([len(y_pred),1]))\n",
        "  n=0\n",
        "  for i in y_pred:\n",
        "    max=0;\n",
        "    for j in range(10):\n",
        "      if(i[j]>i[max]):\n",
        "        max=j;\n",
        "    y_pred_number.iat[n,0]=max\n",
        "    print(max)\n",
        "    n+=1\n",
        "  return y_pred_number"
      ]
    },
    {
      "cell_type": "code",
      "execution_count": null,
      "metadata": {
        "id": "sFhVxEoBXuz7"
      },
      "outputs": [],
      "source": [
        "y_pred_number=getNumberPred(y_pred)"
      ]
    },
    {
      "cell_type": "code",
      "source": [
        "y_pred_number"
      ],
      "metadata": {
        "colab": {
          "base_uri": "https://localhost:8080/",
          "height": 423
        },
        "id": "THy3qpheuc6d",
        "outputId": "0c579d92-2b17-4d33-d283-fdf6ad8d01eb"
      },
      "execution_count": null,
      "outputs": [
        {
          "output_type": "execute_result",
          "data": {
            "text/plain": [
              "         0\n",
              "0      8.0\n",
              "1      4.0\n",
              "2      8.0\n",
              "3      7.0\n",
              "4      7.0\n",
              "...    ...\n",
              "23095  8.0\n",
              "23096  4.0\n",
              "23097  7.0\n",
              "23098  2.0\n",
              "23099  5.0\n",
              "\n",
              "[23100 rows x 1 columns]"
            ],
            "text/html": [
              "\n",
              "  <div id=\"df-a930fe44-0ef5-45a1-ae2a-ee435c86434f\">\n",
              "    <div class=\"colab-df-container\">\n",
              "      <div>\n",
              "<style scoped>\n",
              "    .dataframe tbody tr th:only-of-type {\n",
              "        vertical-align: middle;\n",
              "    }\n",
              "\n",
              "    .dataframe tbody tr th {\n",
              "        vertical-align: top;\n",
              "    }\n",
              "\n",
              "    .dataframe thead th {\n",
              "        text-align: right;\n",
              "    }\n",
              "</style>\n",
              "<table border=\"1\" class=\"dataframe\">\n",
              "  <thead>\n",
              "    <tr style=\"text-align: right;\">\n",
              "      <th></th>\n",
              "      <th>0</th>\n",
              "    </tr>\n",
              "  </thead>\n",
              "  <tbody>\n",
              "    <tr>\n",
              "      <th>0</th>\n",
              "      <td>8.0</td>\n",
              "    </tr>\n",
              "    <tr>\n",
              "      <th>1</th>\n",
              "      <td>4.0</td>\n",
              "    </tr>\n",
              "    <tr>\n",
              "      <th>2</th>\n",
              "      <td>8.0</td>\n",
              "    </tr>\n",
              "    <tr>\n",
              "      <th>3</th>\n",
              "      <td>7.0</td>\n",
              "    </tr>\n",
              "    <tr>\n",
              "      <th>4</th>\n",
              "      <td>7.0</td>\n",
              "    </tr>\n",
              "    <tr>\n",
              "      <th>...</th>\n",
              "      <td>...</td>\n",
              "    </tr>\n",
              "    <tr>\n",
              "      <th>23095</th>\n",
              "      <td>8.0</td>\n",
              "    </tr>\n",
              "    <tr>\n",
              "      <th>23096</th>\n",
              "      <td>4.0</td>\n",
              "    </tr>\n",
              "    <tr>\n",
              "      <th>23097</th>\n",
              "      <td>7.0</td>\n",
              "    </tr>\n",
              "    <tr>\n",
              "      <th>23098</th>\n",
              "      <td>2.0</td>\n",
              "    </tr>\n",
              "    <tr>\n",
              "      <th>23099</th>\n",
              "      <td>5.0</td>\n",
              "    </tr>\n",
              "  </tbody>\n",
              "</table>\n",
              "<p>23100 rows × 1 columns</p>\n",
              "</div>\n",
              "      <button class=\"colab-df-convert\" onclick=\"convertToInteractive('df-a930fe44-0ef5-45a1-ae2a-ee435c86434f')\"\n",
              "              title=\"Convert this dataframe to an interactive table.\"\n",
              "              style=\"display:none;\">\n",
              "        \n",
              "  <svg xmlns=\"http://www.w3.org/2000/svg\" height=\"24px\"viewBox=\"0 0 24 24\"\n",
              "       width=\"24px\">\n",
              "    <path d=\"M0 0h24v24H0V0z\" fill=\"none\"/>\n",
              "    <path d=\"M18.56 5.44l.94 2.06.94-2.06 2.06-.94-2.06-.94-.94-2.06-.94 2.06-2.06.94zm-11 1L8.5 8.5l.94-2.06 2.06-.94-2.06-.94L8.5 2.5l-.94 2.06-2.06.94zm10 10l.94 2.06.94-2.06 2.06-.94-2.06-.94-.94-2.06-.94 2.06-2.06.94z\"/><path d=\"M17.41 7.96l-1.37-1.37c-.4-.4-.92-.59-1.43-.59-.52 0-1.04.2-1.43.59L10.3 9.45l-7.72 7.72c-.78.78-.78 2.05 0 2.83L4 21.41c.39.39.9.59 1.41.59.51 0 1.02-.2 1.41-.59l7.78-7.78 2.81-2.81c.8-.78.8-2.07 0-2.86zM5.41 20L4 18.59l7.72-7.72 1.47 1.35L5.41 20z\"/>\n",
              "  </svg>\n",
              "      </button>\n",
              "      \n",
              "  <style>\n",
              "    .colab-df-container {\n",
              "      display:flex;\n",
              "      flex-wrap:wrap;\n",
              "      gap: 12px;\n",
              "    }\n",
              "\n",
              "    .colab-df-convert {\n",
              "      background-color: #E8F0FE;\n",
              "      border: none;\n",
              "      border-radius: 50%;\n",
              "      cursor: pointer;\n",
              "      display: none;\n",
              "      fill: #1967D2;\n",
              "      height: 32px;\n",
              "      padding: 0 0 0 0;\n",
              "      width: 32px;\n",
              "    }\n",
              "\n",
              "    .colab-df-convert:hover {\n",
              "      background-color: #E2EBFA;\n",
              "      box-shadow: 0px 1px 2px rgba(60, 64, 67, 0.3), 0px 1px 3px 1px rgba(60, 64, 67, 0.15);\n",
              "      fill: #174EA6;\n",
              "    }\n",
              "\n",
              "    [theme=dark] .colab-df-convert {\n",
              "      background-color: #3B4455;\n",
              "      fill: #D2E3FC;\n",
              "    }\n",
              "\n",
              "    [theme=dark] .colab-df-convert:hover {\n",
              "      background-color: #434B5C;\n",
              "      box-shadow: 0px 1px 3px 1px rgba(0, 0, 0, 0.15);\n",
              "      filter: drop-shadow(0px 1px 2px rgba(0, 0, 0, 0.3));\n",
              "      fill: #FFFFFF;\n",
              "    }\n",
              "  </style>\n",
              "\n",
              "      <script>\n",
              "        const buttonEl =\n",
              "          document.querySelector('#df-a930fe44-0ef5-45a1-ae2a-ee435c86434f button.colab-df-convert');\n",
              "        buttonEl.style.display =\n",
              "          google.colab.kernel.accessAllowed ? 'block' : 'none';\n",
              "\n",
              "        async function convertToInteractive(key) {\n",
              "          const element = document.querySelector('#df-a930fe44-0ef5-45a1-ae2a-ee435c86434f');\n",
              "          const dataTable =\n",
              "            await google.colab.kernel.invokeFunction('convertToInteractive',\n",
              "                                                     [key], {});\n",
              "          if (!dataTable) return;\n",
              "\n",
              "          const docLinkHtml = 'Like what you see? Visit the ' +\n",
              "            '<a target=\"_blank\" href=https://colab.research.google.com/notebooks/data_table.ipynb>data table notebook</a>'\n",
              "            + ' to learn more about interactive tables.';\n",
              "          element.innerHTML = '';\n",
              "          dataTable['output_type'] = 'display_data';\n",
              "          await google.colab.output.renderOutput(dataTable, element);\n",
              "          const docLink = document.createElement('div');\n",
              "          docLink.innerHTML = docLinkHtml;\n",
              "          element.appendChild(docLink);\n",
              "        }\n",
              "      </script>\n",
              "    </div>\n",
              "  </div>\n",
              "  "
            ]
          },
          "metadata": {},
          "execution_count": 31
        }
      ]
    },
    {
      "cell_type": "code",
      "source": [
        "y_test"
      ],
      "metadata": {
        "colab": {
          "base_uri": "https://localhost:8080/"
        },
        "id": "e2Ls08lHurRS",
        "outputId": "5c914f9b-6b62-4465-8734-aa14d100e17c"
      },
      "execution_count": null,
      "outputs": [
        {
          "output_type": "execute_result",
          "data": {
            "text/plain": [
              "array([8, 4, 8, ..., 7, 2, 5], dtype=uint8)"
            ]
          },
          "metadata": {},
          "execution_count": 17
        }
      ]
    },
    {
      "cell_type": "code",
      "execution_count": null,
      "metadata": {
        "id": "g5pssSoXZsY7"
      },
      "outputs": [],
      "source": [
        "def getMetrics(y_pred_number,y_test,conf_mat):\n",
        "  for i in range(len(y_pred_number)):\n",
        "    conf_mat.iat[y_test[i],y_pred_number.iat[i,0]]+=1\n",
        "\n",
        "\n"
      ]
    },
    {
      "cell_type": "code",
      "execution_count": null,
      "metadata": {
        "colab": {
          "background_save": true,
          "base_uri": "https://localhost:8080/"
        },
        "id": "q6pngGMYbnC4",
        "outputId": "dd3296d4-d637-47e9-d9eb-8a02c3d710ad"
      },
      "outputs": [
        {
          "data": {
            "text/plain": [
              "array([0, 4, 1, ..., 2, 9, 9], dtype=uint8)"
            ]
          },
          "execution_count": 60,
          "metadata": {},
          "output_type": "execute_result"
        }
      ],
      "source": [
        "y_test[]"
      ]
    },
    {
      "cell_type": "code",
      "execution_count": null,
      "metadata": {
        "colab": {
          "base_uri": "https://localhost:8080/"
        },
        "id": "m7UaIO4WaDQU",
        "outputId": "5eaee1ed-cd80-4cc4-a939-1fdb34b9546b"
      },
      "outputs": [
        {
          "data": {
            "text/plain": [
              "array([0, 4, 1, ..., 2, 9, 9], dtype=uint8)"
            ]
          },
          "execution_count": 38,
          "metadata": {},
          "output_type": "execute_result"
        }
      ],
      "source": [
        "y_test"
      ]
    },
    {
      "cell_type": "code",
      "execution_count": null,
      "metadata": {
        "colab": {
          "base_uri": "https://localhost:8080/",
          "height": 165
        },
        "id": "IRxTdpPTaTdf",
        "outputId": "2bfbff4a-11bf-4766-8245-582db4269199"
      },
      "outputs": [
        {
          "ename": "NameError",
          "evalue": "ignored",
          "output_type": "error",
          "traceback": [
            "\u001b[0;31m---------------------------------------------------------------------------\u001b[0m",
            "\u001b[0;31mNameError\u001b[0m                                 Traceback (most recent call last)",
            "\u001b[0;32m<ipython-input-12-6fc78332fdd4>\u001b[0m in \u001b[0;36m<cell line: 1>\u001b[0;34m()\u001b[0m\n\u001b[0;32m----> 1\u001b[0;31m \u001b[0mtp\u001b[0m\u001b[0;34m\u001b[0m\u001b[0;34m\u001b[0m\u001b[0m\n\u001b[0m",
            "\u001b[0;31mNameError\u001b[0m: name 'tp' is not defined"
          ]
        }
      ],
      "source": [
        "tp"
      ]
    },
    {
      "cell_type": "code",
      "source": [
        "confusion_matrix(y_test,y_pred_number)"
      ],
      "metadata": {
        "colab": {
          "base_uri": "https://localhost:8080/"
        },
        "id": "o53lAItetmlG",
        "outputId": "b37eb6fb-4673-42b5-af03-12c0696cc512"
      },
      "execution_count": null,
      "outputs": [
        {
          "output_type": "execute_result",
          "data": {
            "text/plain": [
              "array([[2221,    1,    5,    0,    2,    2,   21,    2,    7,    6],\n",
              "       [   0, 2558,    8,   15,    1,    0,    2,    3,   12,    4],\n",
              "       [   3,    7, 2284,   17,    5,    1,    9,    8,    9,    7],\n",
              "       [   3,    0,   34, 2306,    0,   20,    1,    4,    9,    6],\n",
              "       [   1,    1,    8,    2, 2056,    0,   10,    7,    2,   57],\n",
              "       [   4,    3,    2,   24,    3, 2032,   18,    0,    7,   14],\n",
              "       [   1,    2,    4,    0,    8,   10, 2261,    0,    8,    0],\n",
              "       [   3,   12,   22,   11,    6,    4,    0, 2364,    1,   32],\n",
              "       [   4,   12,   12,   20,    5,    7,   14,   11, 2097,   14],\n",
              "       [  12,    4,    1,    9,   16,    2,    3,   13,   11, 2230]])"
            ]
          },
          "metadata": {},
          "execution_count": 33
        }
      ]
    },
    {
      "cell_type": "markdown",
      "metadata": {
        "id": "u2skDE0yJpjV"
      },
      "source": [
        "## **M2**"
      ]
    },
    {
      "cell_type": "code",
      "execution_count": null,
      "metadata": {
        "colab": {
          "base_uri": "https://localhost:8080/"
        },
        "id": "L3jCYoesHy3e",
        "outputId": "34dedee1-7419-4dda-af2a-ce615f750b45"
      },
      "outputs": [
        {
          "output_type": "stream",
          "name": "stdout",
          "text": [
            "Epoch 1/10\n",
            "1466/1466 [==============================] - 6s 4ms/step - loss: 0.2792 - accuracy: 0.9182\n",
            "Epoch 2/10\n",
            "1466/1466 [==============================] - 5s 3ms/step - loss: 0.1170 - accuracy: 0.9643\n",
            "Epoch 3/10\n",
            "1466/1466 [==============================] - 5s 3ms/step - loss: 0.0827 - accuracy: 0.9745\n",
            "Epoch 4/10\n",
            "1466/1466 [==============================] - 5s 4ms/step - loss: 0.0621 - accuracy: 0.9803\n",
            "Epoch 5/10\n",
            "1466/1466 [==============================] - 5s 3ms/step - loss: 0.0472 - accuracy: 0.9853\n",
            "Epoch 6/10\n",
            "1466/1466 [==============================] - 6s 4ms/step - loss: 0.0383 - accuracy: 0.9875\n",
            "Epoch 7/10\n",
            "1466/1466 [==============================] - 5s 4ms/step - loss: 0.0319 - accuracy: 0.9894\n",
            "Epoch 8/10\n",
            "1466/1466 [==============================] - 5s 3ms/step - loss: 0.0266 - accuracy: 0.9912\n",
            "Epoch 9/10\n",
            "1466/1466 [==============================] - 5s 4ms/step - loss: 0.0257 - accuracy: 0.9919\n",
            "Epoch 10/10\n",
            "1466/1466 [==============================] - 5s 3ms/step - loss: 0.0206 - accuracy: 0.9935\n"
          ]
        },
        {
          "output_type": "execute_result",
          "data": {
            "text/plain": [
              "<keras.callbacks.History at 0x7f2e00bbaf50>"
            ]
          },
          "metadata": {},
          "execution_count": 11
        }
      ],
      "source": [
        "# Defining the model\n",
        "model2 = keras.Sequential([\n",
        "    keras.layers.Dense(100, input_shape=(28*28,), activation='relu'),\n",
        "    keras.layers.Dense(50, activation='relu'),\n",
        "    keras.layers.Dense(10, activation='sigmoid')\n",
        "])\n",
        "\n",
        "# Compiling the model\n",
        "model2.compile(optimizer='adam',\n",
        "              loss=keras.losses.SparseCategoricalCrossentropy(),\n",
        "              metrics=['accuracy'])\n",
        "\n",
        "# fitting the model\n",
        "model2.fit(X_train_flat, y_train, epochs=10)"
      ]
    },
    {
      "cell_type": "markdown",
      "metadata": {
        "id": "eobK6Na3KIzX"
      },
      "source": [
        "## **M3**"
      ]
    },
    {
      "cell_type": "code",
      "execution_count": null,
      "metadata": {
        "colab": {
          "base_uri": "https://localhost:8080/"
        },
        "id": "WOW1CHkiKK20",
        "outputId": "9ce22f5a-bb30-43d9-80b8-99dc1689f0da"
      },
      "outputs": [
        {
          "output_type": "stream",
          "name": "stdout",
          "text": [
            "Epoch 1/10\n",
            "1466/1466 [==============================] - 6s 3ms/step - loss: 0.2880 - accuracy: 0.9159\n",
            "Epoch 2/10\n",
            "1466/1466 [==============================] - 6s 4ms/step - loss: 0.1284 - accuracy: 0.9613\n",
            "Epoch 3/10\n",
            "1466/1466 [==============================] - 6s 4ms/step - loss: 0.0875 - accuracy: 0.9728\n",
            "Epoch 4/10\n",
            "1466/1466 [==============================] - 6s 4ms/step - loss: 0.0662 - accuracy: 0.9798\n",
            "Epoch 5/10\n",
            "1466/1466 [==============================] - 5s 3ms/step - loss: 0.0486 - accuracy: 0.9847\n",
            "Epoch 6/10\n",
            "1466/1466 [==============================] - 5s 4ms/step - loss: 0.0372 - accuracy: 0.9887\n",
            "Epoch 7/10\n",
            "1466/1466 [==============================] - 5s 4ms/step - loss: 0.0306 - accuracy: 0.9906\n",
            "Epoch 8/10\n",
            "1466/1466 [==============================] - 6s 4ms/step - loss: 0.0226 - accuracy: 0.9932\n",
            "Epoch 9/10\n",
            "1466/1466 [==============================] - 11s 8ms/step - loss: 0.0193 - accuracy: 0.9935\n",
            "Epoch 10/10\n",
            "1466/1466 [==============================] - 11s 7ms/step - loss: 0.0173 - accuracy: 0.9944\n"
          ]
        },
        {
          "output_type": "execute_result",
          "data": {
            "text/plain": [
              "<keras.callbacks.History at 0x7f2e00b1a080>"
            ]
          },
          "metadata": {},
          "execution_count": 12
        }
      ],
      "source": [
        "# Defining the model\n",
        "model3 = keras.Sequential([\n",
        "    keras.layers.Dense(120, input_shape=(28*28,), activation='tanh'),\n",
        "    keras.layers.Dense(30, activation='relu'),\n",
        "    keras.layers.Dense(10, activation='sigmoid')\n",
        "])\n",
        "\n",
        "# Compiling the model\n",
        "model3.compile(optimizer='adam',\n",
        "              loss=keras.losses.SparseCategoricalCrossentropy(),\n",
        "              metrics=['accuracy'])\n",
        "\n",
        "# fitting the model\n",
        "model3.fit(X_train_flat, y_train, epochs=10)"
      ]
    },
    {
      "cell_type": "markdown",
      "metadata": {
        "id": "hLjZnqnSKS1d"
      },
      "source": [
        "### **M4**"
      ]
    },
    {
      "cell_type": "code",
      "execution_count": null,
      "metadata": {
        "colab": {
          "base_uri": "https://localhost:8080/",
          "height": 485
        },
        "id": "fLyaTX3dKLe7",
        "outputId": "0bd66277-7b67-4ae8-8032-749eb6892fb2"
      },
      "outputs": [
        {
          "output_type": "stream",
          "name": "stdout",
          "text": [
            "Epoch 1/10\n",
            "1466/1466 [==============================] - 4s 2ms/step - loss: 0.6887 - accuracy: 0.8401\n",
            "Epoch 2/10\n",
            "1466/1466 [==============================] - 4s 3ms/step - loss: 0.2394 - accuracy: 0.9318\n",
            "Epoch 3/10\n",
            "1466/1466 [==============================] - 3s 2ms/step - loss: 0.1789 - accuracy: 0.9481\n",
            "Epoch 4/10\n",
            " 139/1466 [=>............................] - ETA: 2s - loss: 0.1459 - accuracy: 0.9550"
          ]
        },
        {
          "output_type": "error",
          "ename": "KeyboardInterrupt",
          "evalue": "ignored",
          "traceback": [
            "\u001b[0;31m---------------------------------------------------------------------------\u001b[0m",
            "\u001b[0;31mKeyboardInterrupt\u001b[0m                         Traceback (most recent call last)",
            "\u001b[0;32m<ipython-input-13-6e12f58a2405>\u001b[0m in \u001b[0;36m<cell line: 14>\u001b[0;34m()\u001b[0m\n\u001b[1;32m     12\u001b[0m \u001b[0;34m\u001b[0m\u001b[0m\n\u001b[1;32m     13\u001b[0m \u001b[0;31m# fitting the model\u001b[0m\u001b[0;34m\u001b[0m\u001b[0;34m\u001b[0m\u001b[0m\n\u001b[0;32m---> 14\u001b[0;31m \u001b[0mmodel4\u001b[0m\u001b[0;34m.\u001b[0m\u001b[0mfit\u001b[0m\u001b[0;34m(\u001b[0m\u001b[0mX_train_flat\u001b[0m\u001b[0;34m,\u001b[0m \u001b[0my_train\u001b[0m\u001b[0;34m,\u001b[0m \u001b[0mepochs\u001b[0m\u001b[0;34m=\u001b[0m\u001b[0;36m10\u001b[0m\u001b[0;34m)\u001b[0m\u001b[0;34m\u001b[0m\u001b[0;34m\u001b[0m\u001b[0m\n\u001b[0m",
            "\u001b[0;32m/usr/local/lib/python3.10/dist-packages/keras/utils/traceback_utils.py\u001b[0m in \u001b[0;36merror_handler\u001b[0;34m(*args, **kwargs)\u001b[0m\n\u001b[1;32m     63\u001b[0m         \u001b[0mfiltered_tb\u001b[0m \u001b[0;34m=\u001b[0m \u001b[0;32mNone\u001b[0m\u001b[0;34m\u001b[0m\u001b[0;34m\u001b[0m\u001b[0m\n\u001b[1;32m     64\u001b[0m         \u001b[0;32mtry\u001b[0m\u001b[0;34m:\u001b[0m\u001b[0;34m\u001b[0m\u001b[0;34m\u001b[0m\u001b[0m\n\u001b[0;32m---> 65\u001b[0;31m             \u001b[0;32mreturn\u001b[0m \u001b[0mfn\u001b[0m\u001b[0;34m(\u001b[0m\u001b[0;34m*\u001b[0m\u001b[0margs\u001b[0m\u001b[0;34m,\u001b[0m \u001b[0;34m**\u001b[0m\u001b[0mkwargs\u001b[0m\u001b[0;34m)\u001b[0m\u001b[0;34m\u001b[0m\u001b[0;34m\u001b[0m\u001b[0m\n\u001b[0m\u001b[1;32m     66\u001b[0m         \u001b[0;32mexcept\u001b[0m \u001b[0mException\u001b[0m \u001b[0;32mas\u001b[0m \u001b[0me\u001b[0m\u001b[0;34m:\u001b[0m\u001b[0;34m\u001b[0m\u001b[0;34m\u001b[0m\u001b[0m\n\u001b[1;32m     67\u001b[0m             \u001b[0mfiltered_tb\u001b[0m \u001b[0;34m=\u001b[0m \u001b[0m_process_traceback_frames\u001b[0m\u001b[0;34m(\u001b[0m\u001b[0me\u001b[0m\u001b[0;34m.\u001b[0m\u001b[0m__traceback__\u001b[0m\u001b[0;34m)\u001b[0m\u001b[0;34m\u001b[0m\u001b[0;34m\u001b[0m\u001b[0m\n",
            "\u001b[0;32m/usr/local/lib/python3.10/dist-packages/keras/engine/training.py\u001b[0m in \u001b[0;36mfit\u001b[0;34m(self, x, y, batch_size, epochs, verbose, callbacks, validation_split, validation_data, shuffle, class_weight, sample_weight, initial_epoch, steps_per_epoch, validation_steps, validation_batch_size, validation_freq, max_queue_size, workers, use_multiprocessing)\u001b[0m\n\u001b[1;32m   1683\u001b[0m                         ):\n\u001b[1;32m   1684\u001b[0m                             \u001b[0mcallbacks\u001b[0m\u001b[0;34m.\u001b[0m\u001b[0mon_train_batch_begin\u001b[0m\u001b[0;34m(\u001b[0m\u001b[0mstep\u001b[0m\u001b[0;34m)\u001b[0m\u001b[0;34m\u001b[0m\u001b[0;34m\u001b[0m\u001b[0m\n\u001b[0;32m-> 1685\u001b[0;31m                             \u001b[0mtmp_logs\u001b[0m \u001b[0;34m=\u001b[0m \u001b[0mself\u001b[0m\u001b[0;34m.\u001b[0m\u001b[0mtrain_function\u001b[0m\u001b[0;34m(\u001b[0m\u001b[0miterator\u001b[0m\u001b[0;34m)\u001b[0m\u001b[0;34m\u001b[0m\u001b[0;34m\u001b[0m\u001b[0m\n\u001b[0m\u001b[1;32m   1686\u001b[0m                             \u001b[0;32mif\u001b[0m \u001b[0mdata_handler\u001b[0m\u001b[0;34m.\u001b[0m\u001b[0mshould_sync\u001b[0m\u001b[0;34m:\u001b[0m\u001b[0;34m\u001b[0m\u001b[0;34m\u001b[0m\u001b[0m\n\u001b[1;32m   1687\u001b[0m                                 \u001b[0mcontext\u001b[0m\u001b[0;34m.\u001b[0m\u001b[0masync_wait\u001b[0m\u001b[0;34m(\u001b[0m\u001b[0;34m)\u001b[0m\u001b[0;34m\u001b[0m\u001b[0;34m\u001b[0m\u001b[0m\n",
            "\u001b[0;32m/usr/local/lib/python3.10/dist-packages/tensorflow/python/util/traceback_utils.py\u001b[0m in \u001b[0;36merror_handler\u001b[0;34m(*args, **kwargs)\u001b[0m\n\u001b[1;32m    148\u001b[0m     \u001b[0mfiltered_tb\u001b[0m \u001b[0;34m=\u001b[0m \u001b[0;32mNone\u001b[0m\u001b[0;34m\u001b[0m\u001b[0;34m\u001b[0m\u001b[0m\n\u001b[1;32m    149\u001b[0m     \u001b[0;32mtry\u001b[0m\u001b[0;34m:\u001b[0m\u001b[0;34m\u001b[0m\u001b[0;34m\u001b[0m\u001b[0m\n\u001b[0;32m--> 150\u001b[0;31m       \u001b[0;32mreturn\u001b[0m \u001b[0mfn\u001b[0m\u001b[0;34m(\u001b[0m\u001b[0;34m*\u001b[0m\u001b[0margs\u001b[0m\u001b[0;34m,\u001b[0m \u001b[0;34m**\u001b[0m\u001b[0mkwargs\u001b[0m\u001b[0;34m)\u001b[0m\u001b[0;34m\u001b[0m\u001b[0;34m\u001b[0m\u001b[0m\n\u001b[0m\u001b[1;32m    151\u001b[0m     \u001b[0;32mexcept\u001b[0m \u001b[0mException\u001b[0m \u001b[0;32mas\u001b[0m \u001b[0me\u001b[0m\u001b[0;34m:\u001b[0m\u001b[0;34m\u001b[0m\u001b[0;34m\u001b[0m\u001b[0m\n\u001b[1;32m    152\u001b[0m       \u001b[0mfiltered_tb\u001b[0m \u001b[0;34m=\u001b[0m \u001b[0m_process_traceback_frames\u001b[0m\u001b[0;34m(\u001b[0m\u001b[0me\u001b[0m\u001b[0;34m.\u001b[0m\u001b[0m__traceback__\u001b[0m\u001b[0;34m)\u001b[0m\u001b[0;34m\u001b[0m\u001b[0;34m\u001b[0m\u001b[0m\n",
            "\u001b[0;32m/usr/local/lib/python3.10/dist-packages/tensorflow/python/eager/polymorphic_function/polymorphic_function.py\u001b[0m in \u001b[0;36m__call__\u001b[0;34m(self, *args, **kwds)\u001b[0m\n\u001b[1;32m    892\u001b[0m \u001b[0;34m\u001b[0m\u001b[0m\n\u001b[1;32m    893\u001b[0m       \u001b[0;32mwith\u001b[0m \u001b[0mOptionalXlaContext\u001b[0m\u001b[0;34m(\u001b[0m\u001b[0mself\u001b[0m\u001b[0;34m.\u001b[0m\u001b[0m_jit_compile\u001b[0m\u001b[0;34m)\u001b[0m\u001b[0;34m:\u001b[0m\u001b[0;34m\u001b[0m\u001b[0;34m\u001b[0m\u001b[0m\n\u001b[0;32m--> 894\u001b[0;31m         \u001b[0mresult\u001b[0m \u001b[0;34m=\u001b[0m \u001b[0mself\u001b[0m\u001b[0;34m.\u001b[0m\u001b[0m_call\u001b[0m\u001b[0;34m(\u001b[0m\u001b[0;34m*\u001b[0m\u001b[0margs\u001b[0m\u001b[0;34m,\u001b[0m \u001b[0;34m**\u001b[0m\u001b[0mkwds\u001b[0m\u001b[0;34m)\u001b[0m\u001b[0;34m\u001b[0m\u001b[0;34m\u001b[0m\u001b[0m\n\u001b[0m\u001b[1;32m    895\u001b[0m \u001b[0;34m\u001b[0m\u001b[0m\n\u001b[1;32m    896\u001b[0m       \u001b[0mnew_tracing_count\u001b[0m \u001b[0;34m=\u001b[0m \u001b[0mself\u001b[0m\u001b[0;34m.\u001b[0m\u001b[0mexperimental_get_tracing_count\u001b[0m\u001b[0;34m(\u001b[0m\u001b[0;34m)\u001b[0m\u001b[0;34m\u001b[0m\u001b[0;34m\u001b[0m\u001b[0m\n",
            "\u001b[0;32m/usr/local/lib/python3.10/dist-packages/tensorflow/python/eager/polymorphic_function/polymorphic_function.py\u001b[0m in \u001b[0;36m_call\u001b[0;34m(self, *args, **kwds)\u001b[0m\n\u001b[1;32m    924\u001b[0m       \u001b[0;31m# In this case we have created variables on the first call, so we run the\u001b[0m\u001b[0;34m\u001b[0m\u001b[0;34m\u001b[0m\u001b[0m\n\u001b[1;32m    925\u001b[0m       \u001b[0;31m# defunned version which is guaranteed to never create variables.\u001b[0m\u001b[0;34m\u001b[0m\u001b[0;34m\u001b[0m\u001b[0m\n\u001b[0;32m--> 926\u001b[0;31m       \u001b[0;32mreturn\u001b[0m \u001b[0mself\u001b[0m\u001b[0;34m.\u001b[0m\u001b[0m_no_variable_creation_fn\u001b[0m\u001b[0;34m(\u001b[0m\u001b[0;34m*\u001b[0m\u001b[0margs\u001b[0m\u001b[0;34m,\u001b[0m \u001b[0;34m**\u001b[0m\u001b[0mkwds\u001b[0m\u001b[0;34m)\u001b[0m  \u001b[0;31m# pylint: disable=not-callable\u001b[0m\u001b[0;34m\u001b[0m\u001b[0;34m\u001b[0m\u001b[0m\n\u001b[0m\u001b[1;32m    927\u001b[0m     \u001b[0;32melif\u001b[0m \u001b[0mself\u001b[0m\u001b[0;34m.\u001b[0m\u001b[0m_variable_creation_fn\u001b[0m \u001b[0;32mis\u001b[0m \u001b[0;32mnot\u001b[0m \u001b[0;32mNone\u001b[0m\u001b[0;34m:\u001b[0m\u001b[0;34m\u001b[0m\u001b[0;34m\u001b[0m\u001b[0m\n\u001b[1;32m    928\u001b[0m       \u001b[0;31m# Release the lock early so that multiple threads can perform the call\u001b[0m\u001b[0;34m\u001b[0m\u001b[0;34m\u001b[0m\u001b[0m\n",
            "\u001b[0;32m/usr/local/lib/python3.10/dist-packages/tensorflow/python/eager/polymorphic_function/tracing_compiler.py\u001b[0m in \u001b[0;36m__call__\u001b[0;34m(self, *args, **kwargs)\u001b[0m\n\u001b[1;32m    141\u001b[0m       (concrete_function,\n\u001b[1;32m    142\u001b[0m        filtered_flat_args) = self._maybe_define_function(args, kwargs)\n\u001b[0;32m--> 143\u001b[0;31m     return concrete_function._call_flat(\n\u001b[0m\u001b[1;32m    144\u001b[0m         filtered_flat_args, captured_inputs=concrete_function.captured_inputs)  # pylint: disable=protected-access\n\u001b[1;32m    145\u001b[0m \u001b[0;34m\u001b[0m\u001b[0m\n",
            "\u001b[0;32m/usr/local/lib/python3.10/dist-packages/tensorflow/python/eager/polymorphic_function/monomorphic_function.py\u001b[0m in \u001b[0;36m_call_flat\u001b[0;34m(self, args, captured_inputs, cancellation_manager)\u001b[0m\n\u001b[1;32m   1755\u001b[0m         and executing_eagerly):\n\u001b[1;32m   1756\u001b[0m       \u001b[0;31m# No tape is watching; skip to running the function.\u001b[0m\u001b[0;34m\u001b[0m\u001b[0;34m\u001b[0m\u001b[0m\n\u001b[0;32m-> 1757\u001b[0;31m       return self._build_call_outputs(self._inference_function.call(\n\u001b[0m\u001b[1;32m   1758\u001b[0m           ctx, args, cancellation_manager=cancellation_manager))\n\u001b[1;32m   1759\u001b[0m     forward_backward = self._select_forward_and_backward_functions(\n",
            "\u001b[0;32m/usr/local/lib/python3.10/dist-packages/tensorflow/python/eager/polymorphic_function/monomorphic_function.py\u001b[0m in \u001b[0;36mcall\u001b[0;34m(self, ctx, args, cancellation_manager)\u001b[0m\n\u001b[1;32m    379\u001b[0m       \u001b[0;32mwith\u001b[0m \u001b[0m_InterpolateFunctionError\u001b[0m\u001b[0;34m(\u001b[0m\u001b[0mself\u001b[0m\u001b[0;34m)\u001b[0m\u001b[0;34m:\u001b[0m\u001b[0;34m\u001b[0m\u001b[0;34m\u001b[0m\u001b[0m\n\u001b[1;32m    380\u001b[0m         \u001b[0;32mif\u001b[0m \u001b[0mcancellation_manager\u001b[0m \u001b[0;32mis\u001b[0m \u001b[0;32mNone\u001b[0m\u001b[0;34m:\u001b[0m\u001b[0;34m\u001b[0m\u001b[0;34m\u001b[0m\u001b[0m\n\u001b[0;32m--> 381\u001b[0;31m           outputs = execute.execute(\n\u001b[0m\u001b[1;32m    382\u001b[0m               \u001b[0mstr\u001b[0m\u001b[0;34m(\u001b[0m\u001b[0mself\u001b[0m\u001b[0;34m.\u001b[0m\u001b[0msignature\u001b[0m\u001b[0;34m.\u001b[0m\u001b[0mname\u001b[0m\u001b[0;34m)\u001b[0m\u001b[0;34m,\u001b[0m\u001b[0;34m\u001b[0m\u001b[0;34m\u001b[0m\u001b[0m\n\u001b[1;32m    383\u001b[0m               \u001b[0mnum_outputs\u001b[0m\u001b[0;34m=\u001b[0m\u001b[0mself\u001b[0m\u001b[0;34m.\u001b[0m\u001b[0m_num_outputs\u001b[0m\u001b[0;34m,\u001b[0m\u001b[0;34m\u001b[0m\u001b[0;34m\u001b[0m\u001b[0m\n",
            "\u001b[0;32m/usr/local/lib/python3.10/dist-packages/tensorflow/python/eager/execute.py\u001b[0m in \u001b[0;36mquick_execute\u001b[0;34m(op_name, num_outputs, inputs, attrs, ctx, name)\u001b[0m\n\u001b[1;32m     50\u001b[0m   \u001b[0;32mtry\u001b[0m\u001b[0;34m:\u001b[0m\u001b[0;34m\u001b[0m\u001b[0;34m\u001b[0m\u001b[0m\n\u001b[1;32m     51\u001b[0m     \u001b[0mctx\u001b[0m\u001b[0;34m.\u001b[0m\u001b[0mensure_initialized\u001b[0m\u001b[0;34m(\u001b[0m\u001b[0;34m)\u001b[0m\u001b[0;34m\u001b[0m\u001b[0;34m\u001b[0m\u001b[0m\n\u001b[0;32m---> 52\u001b[0;31m     tensors = pywrap_tfe.TFE_Py_Execute(ctx._handle, device_name, op_name,\n\u001b[0m\u001b[1;32m     53\u001b[0m                                         inputs, attrs, num_outputs)\n\u001b[1;32m     54\u001b[0m   \u001b[0;32mexcept\u001b[0m \u001b[0mcore\u001b[0m\u001b[0;34m.\u001b[0m\u001b[0m_NotOkStatusException\u001b[0m \u001b[0;32mas\u001b[0m \u001b[0me\u001b[0m\u001b[0;34m:\u001b[0m\u001b[0;34m\u001b[0m\u001b[0;34m\u001b[0m\u001b[0m\n",
            "\u001b[0;31mKeyboardInterrupt\u001b[0m: "
          ]
        }
      ],
      "source": [
        "# Defining the model\n",
        "model4 = keras.Sequential([\n",
        "    keras.layers.Dense(50, input_shape=(28*28,), activation='sigmoid'),\n",
        "    keras.layers.Dense(50, activation='sigmoid'),\n",
        "    keras.layers.Dense(10, activation='sigmoid')\n",
        "])\n",
        "\n",
        "# Compiling the model\n",
        "model4.compile(optimizer='adam',\n",
        "              loss=keras.losses.SparseCategoricalCrossentropy(),\n",
        "              metrics=['accuracy'])\n",
        "\n",
        "# fitting the model\n",
        "model4.fit(X_train_flat, y_train, epochs=10)"
      ]
    },
    {
      "cell_type": "markdown",
      "metadata": {
        "id": "IUzawm_PKjOV"
      },
      "source": [
        "## **M5**"
      ]
    },
    {
      "cell_type": "code",
      "execution_count": null,
      "metadata": {
        "colab": {
          "base_uri": "https://localhost:8080/"
        },
        "id": "5V7iBvjRKlf1",
        "outputId": "654f6ebd-92b8-4386-838b-4a8135de0913"
      },
      "outputs": [
        {
          "name": "stdout",
          "output_type": "stream",
          "text": [
            "Epoch 1/10\n",
            "1466/1466 [==============================] - 5s 3ms/step - loss: 0.3376 - accuracy: 0.9036\n",
            "Epoch 2/10\n",
            "1466/1466 [==============================] - 4s 3ms/step - loss: 0.1580 - accuracy: 0.9534\n",
            "Epoch 3/10\n",
            "1466/1466 [==============================] - 3s 2ms/step - loss: 0.1126 - accuracy: 0.9668\n",
            "Epoch 4/10\n",
            "1466/1466 [==============================] - 3s 2ms/step - loss: 0.0895 - accuracy: 0.9725\n",
            "Epoch 5/10\n",
            "1466/1466 [==============================] - 4s 3ms/step - loss: 0.0717 - accuracy: 0.9783\n",
            "Epoch 6/10\n",
            "1466/1466 [==============================] - 3s 2ms/step - loss: 0.0590 - accuracy: 0.9816\n",
            "Epoch 7/10\n",
            "1466/1466 [==============================] - 3s 2ms/step - loss: 0.0497 - accuracy: 0.9845\n",
            "Epoch 8/10\n",
            "1466/1466 [==============================] - 4s 3ms/step - loss: 0.0415 - accuracy: 0.9875\n",
            "Epoch 9/10\n",
            "1466/1466 [==============================] - 4s 3ms/step - loss: 0.0365 - accuracy: 0.9887\n",
            "Epoch 10/10\n",
            "1466/1466 [==============================] - 3s 2ms/step - loss: 0.0299 - accuracy: 0.9907\n"
          ]
        },
        {
          "data": {
            "text/plain": [
              "<keras.callbacks.History at 0x7fb830c50490>"
            ]
          },
          "execution_count": 16,
          "metadata": {},
          "output_type": "execute_result"
        }
      ],
      "source": [
        "# Defining the model\n",
        "model5 = keras.Sequential([\n",
        "    keras.layers.Dense(50, input_shape=(28*28,), activation='tanh'),\n",
        "    keras.layers.Dense(50, activation='tanh'),\n",
        "    keras.layers.Dense(10, activation='sigmoid')\n",
        "])\n",
        "\n",
        "# Compiling the model\n",
        "model5.compile(optimizer='adam',\n",
        "              loss=keras.losses.SparseCategoricalCrossentropy(),\n",
        "              metrics=['accuracy'])\n",
        "\n",
        "# fitting the model\n",
        "model5.fit(X_train_flat, y_train, epochs=10)"
      ]
    },
    {
      "cell_type": "markdown",
      "metadata": {
        "id": "jqBN3WilKvxC"
      },
      "source": [
        "## **M6**"
      ]
    },
    {
      "cell_type": "code",
      "execution_count": null,
      "metadata": {
        "colab": {
          "base_uri": "https://localhost:8080/"
        },
        "id": "TUlyvGi5Kxr8",
        "outputId": "2cc0f38d-44c6-4340-a9f0-9d7d10687d4e"
      },
      "outputs": [
        {
          "name": "stdout",
          "output_type": "stream",
          "text": [
            "Epoch 1/10\n",
            "1466/1466 [==============================] - 5s 3ms/step - loss: 0.3196 - accuracy: 0.9049\n",
            "Epoch 2/10\n",
            "1466/1466 [==============================] - 4s 2ms/step - loss: 0.1455 - accuracy: 0.9562\n",
            "Epoch 3/10\n",
            "1466/1466 [==============================] - 4s 3ms/step - loss: 0.1060 - accuracy: 0.9678\n",
            "Epoch 4/10\n",
            "1466/1466 [==============================] - 4s 3ms/step - loss: 0.0883 - accuracy: 0.9725\n",
            "Epoch 5/10\n",
            "1466/1466 [==============================] - 5s 4ms/step - loss: 0.0760 - accuracy: 0.9757\n",
            "Epoch 6/10\n",
            "1466/1466 [==============================] - 5s 4ms/step - loss: 0.0637 - accuracy: 0.9799\n",
            "Epoch 7/10\n",
            "1466/1466 [==============================] - 4s 3ms/step - loss: 0.0546 - accuracy: 0.9834\n",
            "Epoch 8/10\n",
            "1466/1466 [==============================] - 3s 2ms/step - loss: 0.0507 - accuracy: 0.9832\n",
            "Epoch 9/10\n",
            "1466/1466 [==============================] - 4s 3ms/step - loss: 0.0428 - accuracy: 0.9865\n",
            "Epoch 10/10\n",
            "1466/1466 [==============================] - 4s 3ms/step - loss: 0.0366 - accuracy: 0.9879\n"
          ]
        },
        {
          "data": {
            "text/plain": [
              "<keras.callbacks.History at 0x7fb830c7ae00>"
            ]
          },
          "execution_count": 17,
          "metadata": {},
          "output_type": "execute_result"
        }
      ],
      "source": [
        "# Defining the model\n",
        "model6 = keras.Sequential([\n",
        "    keras.layers.Dense(50, input_shape=(28*28,), activation='relu'),\n",
        "    keras.layers.Dense(50, activation='relu'),\n",
        "    keras.layers.Dense(50, activation='relu'),\n",
        "    keras.layers.Dense(10, activation='sigmoid')\n",
        "])\n",
        "\n",
        "# Compiling the model\n",
        "model6.compile(optimizer='adam',\n",
        "              loss=keras.losses.SparseCategoricalCrossentropy(),\n",
        "              metrics=['accuracy'])\n",
        "\n",
        "# fitting the model\n",
        "model6.fit(X_train_flat, y_train, epochs=10)"
      ]
    },
    {
      "cell_type": "markdown",
      "metadata": {
        "id": "I3w-Olk0LOvF"
      },
      "source": [
        "## **M7**"
      ]
    },
    {
      "cell_type": "code",
      "execution_count": null,
      "metadata": {
        "colab": {
          "base_uri": "https://localhost:8080/"
        },
        "id": "2lARGBYoK_nJ",
        "outputId": "579ae0ab-3d62-45c9-cc08-84009f2dd63e"
      },
      "outputs": [
        {
          "name": "stdout",
          "output_type": "stream",
          "text": [
            "Epoch 1/10\n",
            "1466/1466 [==============================] - 7s 4ms/step - loss: 0.3227 - accuracy: 0.9064\n",
            "Epoch 2/10\n",
            "1466/1466 [==============================] - 4s 3ms/step - loss: 0.1379 - accuracy: 0.9579\n",
            "Epoch 3/10\n",
            "1466/1466 [==============================] - 4s 3ms/step - loss: 0.0974 - accuracy: 0.9703\n",
            "Epoch 4/10\n",
            "1466/1466 [==============================] - 5s 4ms/step - loss: 0.0759 - accuracy: 0.9765\n",
            "Epoch 5/10\n",
            "1466/1466 [==============================] - 4s 3ms/step - loss: 0.0612 - accuracy: 0.9806\n",
            "Epoch 6/10\n",
            "1466/1466 [==============================] - 5s 3ms/step - loss: 0.0502 - accuracy: 0.9836\n",
            "Epoch 7/10\n",
            "1466/1466 [==============================] - 4s 3ms/step - loss: 0.0406 - accuracy: 0.9865\n",
            "Epoch 8/10\n",
            "1466/1466 [==============================] - 4s 3ms/step - loss: 0.0360 - accuracy: 0.9884\n",
            "Epoch 9/10\n",
            "1466/1466 [==============================] - 5s 4ms/step - loss: 0.0290 - accuracy: 0.9903\n",
            "Epoch 10/10\n",
            "1466/1466 [==============================] - 4s 3ms/step - loss: 0.0251 - accuracy: 0.9919\n"
          ]
        },
        {
          "data": {
            "text/plain": [
              "<keras.callbacks.History at 0x7fb7edc23d30>"
            ]
          },
          "execution_count": 18,
          "metadata": {},
          "output_type": "execute_result"
        }
      ],
      "source": [
        "# Defining the model\n",
        "model7 = keras.Sequential([\n",
        "    keras.layers.Dense(80, input_shape=(28*28,), activation='tanh'),\n",
        "    keras.layers.Dense(40, activation='relu'),\n",
        "    keras.layers.Dense(30, activation='relu'),\n",
        "    keras.layers.Dense(10, activation='sigmoid')\n",
        "])\n",
        "\n",
        "# Compiling the model\n",
        "model7.compile(optimizer='adam',\n",
        "              loss=keras.losses.SparseCategoricalCrossentropy(),\n",
        "              metrics=['accuracy'])\n",
        "\n",
        "# fitting the model\n",
        "model7.fit(X_train_flat, y_train, epochs=10)"
      ]
    },
    {
      "cell_type": "markdown",
      "metadata": {
        "id": "frw8BMTdLXVz"
      },
      "source": [
        "## **M8**"
      ]
    },
    {
      "cell_type": "code",
      "execution_count": null,
      "metadata": {
        "colab": {
          "base_uri": "https://localhost:8080/"
        },
        "id": "Y7kjO76SLZVn",
        "outputId": "572d13ba-ef0d-461f-8280-50b959ba1c42"
      },
      "outputs": [
        {
          "name": "stdout",
          "output_type": "stream",
          "text": [
            "Epoch 1/10\n",
            "1466/1466 [==============================] - 7s 4ms/step - loss: 0.3202 - accuracy: 0.9178\n",
            "Epoch 2/10\n",
            "1466/1466 [==============================] - 5s 3ms/step - loss: 0.1224 - accuracy: 0.9641\n",
            "Epoch 3/10\n",
            "1466/1466 [==============================] - 5s 3ms/step - loss: 0.0845 - accuracy: 0.9747\n",
            "Epoch 4/10\n",
            "1466/1466 [==============================] - 6s 4ms/step - loss: 0.0662 - accuracy: 0.9801\n",
            "Epoch 5/10\n",
            "1466/1466 [==============================] - 4s 3ms/step - loss: 0.0533 - accuracy: 0.9839\n",
            "Epoch 6/10\n",
            "1466/1466 [==============================] - 5s 3ms/step - loss: 0.0441 - accuracy: 0.9860\n",
            "Epoch 7/10\n",
            "1466/1466 [==============================] - 5s 4ms/step - loss: 0.0356 - accuracy: 0.9891\n",
            "Epoch 8/10\n",
            "1466/1466 [==============================] - 4s 3ms/step - loss: 0.0324 - accuracy: 0.9899\n",
            "Epoch 9/10\n",
            "1466/1466 [==============================] - 6s 4ms/step - loss: 0.0270 - accuracy: 0.9913\n",
            "Epoch 10/10\n",
            "1466/1466 [==============================] - 5s 3ms/step - loss: 0.0246 - accuracy: 0.9921\n"
          ]
        },
        {
          "data": {
            "text/plain": [
              "<keras.callbacks.History at 0x7fb7ed8acbe0>"
            ]
          },
          "execution_count": 19,
          "metadata": {},
          "output_type": "execute_result"
        }
      ],
      "source": [
        "# Defining the model\n",
        "model8 = keras.Sequential([\n",
        "    keras.layers.Dense(90, input_shape=(28*28,), activation='relu'),\n",
        "    keras.layers.Dense(40, activation='tanh'),\n",
        "    keras.layers.Dense(20, activation='tanh'),\n",
        "    keras.layers.Dense(10, activation='sigmoid')\n",
        "])\n",
        "\n",
        "# Compiling the model\n",
        "model8.compile(optimizer='adam',\n",
        "              loss=keras.losses.SparseCategoricalCrossentropy(),\n",
        "              metrics=['accuracy'])\n",
        "\n",
        "# fitting the model\n",
        "model8.fit(X_train_flat, y_train, epochs=10)"
      ]
    },
    {
      "cell_type": "markdown",
      "metadata": {
        "id": "w8eiDYgLMjB7"
      },
      "source": [
        "## **M9**"
      ]
    },
    {
      "cell_type": "code",
      "execution_count": null,
      "metadata": {
        "colab": {
          "base_uri": "https://localhost:8080/"
        },
        "id": "crvGDpAAMmmG",
        "outputId": "2ee87c44-f5bb-484a-eb9a-0b438478c0e3"
      },
      "outputs": [
        {
          "name": "stdout",
          "output_type": "stream",
          "text": [
            "Epoch 1/10\n",
            "1466/1466 [==============================] - 7s 4ms/step - loss: 0.3838 - accuracy: 0.9060\n",
            "Epoch 2/10\n",
            "1466/1466 [==============================] - 5s 4ms/step - loss: 0.1542 - accuracy: 0.9560\n",
            "Epoch 3/10\n",
            "1466/1466 [==============================] - 5s 3ms/step - loss: 0.1054 - accuracy: 0.9692\n",
            "Epoch 4/10\n",
            "1466/1466 [==============================] - 6s 4ms/step - loss: 0.0788 - accuracy: 0.9770\n",
            "Epoch 5/10\n",
            "1466/1466 [==============================] - 5s 3ms/step - loss: 0.0631 - accuracy: 0.9816\n",
            "Epoch 6/10\n",
            "1466/1466 [==============================] - 6s 4ms/step - loss: 0.0504 - accuracy: 0.9849\n",
            "Epoch 7/10\n",
            "1466/1466 [==============================] - 5s 4ms/step - loss: 0.0393 - accuracy: 0.9883\n",
            "Epoch 8/10\n",
            "1466/1466 [==============================] - 6s 4ms/step - loss: 0.0353 - accuracy: 0.9891\n",
            "Epoch 9/10\n",
            "1466/1466 [==============================] - 5s 3ms/step - loss: 0.0289 - accuracy: 0.9913\n",
            "Epoch 10/10\n",
            "1466/1466 [==============================] - 5s 3ms/step - loss: 0.0266 - accuracy: 0.9918\n"
          ]
        },
        {
          "data": {
            "text/plain": [
              "<keras.callbacks.History at 0x7fb7ed643bb0>"
            ]
          },
          "execution_count": 20,
          "metadata": {},
          "output_type": "execute_result"
        }
      ],
      "source": [
        "# Defining the model\n",
        "model9 = keras.Sequential([\n",
        "    keras.layers.Dense(105, input_shape=(28*28,), activation='tanh'),\n",
        "    keras.layers.Dense(30, activation='tanh'),\n",
        "    keras.layers.Dense(15, activation='tanh'),\n",
        "    keras.layers.Dense(10, activation='sigmoid')\n",
        "])\n",
        "\n",
        "# Compiling the model\n",
        "model9.compile(optimizer='adam',\n",
        "              loss=keras.losses.SparseCategoricalCrossentropy(),\n",
        "              metrics=['accuracy'])\n",
        "\n",
        "# fitting the model\n",
        "model9.fit(X_train_flat, y_train, epochs=10)"
      ]
    },
    {
      "cell_type": "markdown",
      "metadata": {
        "id": "UlRaesT5NAZB"
      },
      "source": [
        "## **M10**"
      ]
    },
    {
      "cell_type": "code",
      "execution_count": null,
      "metadata": {
        "colab": {
          "base_uri": "https://localhost:8080/"
        },
        "id": "0CZXrK1FNCnV",
        "outputId": "cac11e57-09e4-4230-e02a-8edaf1cbd587"
      },
      "outputs": [
        {
          "name": "stdout",
          "output_type": "stream",
          "text": [
            "Epoch 1/10\n",
            "1466/1466 [==============================] - 7s 4ms/step - loss: 0.5448 - accuracy: 0.8922\n",
            "Epoch 2/10\n",
            "1466/1466 [==============================] - 5s 3ms/step - loss: 0.1693 - accuracy: 0.9557\n",
            "Epoch 3/10\n",
            "1466/1466 [==============================] - 5s 3ms/step - loss: 0.1138 - accuracy: 0.9689\n",
            "Epoch 4/10\n",
            "1466/1466 [==============================] - 5s 4ms/step - loss: 0.0834 - accuracy: 0.9767\n",
            "Epoch 5/10\n",
            "1466/1466 [==============================] - 5s 3ms/step - loss: 0.0653 - accuracy: 0.9811\n",
            "Epoch 6/10\n",
            "1466/1466 [==============================] - 6s 4ms/step - loss: 0.0534 - accuracy: 0.9845\n",
            "Epoch 7/10\n",
            "1466/1466 [==============================] - 4s 3ms/step - loss: 0.0446 - accuracy: 0.9874\n",
            "Epoch 8/10\n",
            "1466/1466 [==============================] - 4s 3ms/step - loss: 0.0355 - accuracy: 0.9903\n",
            "Epoch 9/10\n",
            "1466/1466 [==============================] - 6s 4ms/step - loss: 0.0313 - accuracy: 0.9911\n",
            "Epoch 10/10\n",
            "1466/1466 [==============================] - 4s 3ms/step - loss: 0.0270 - accuracy: 0.9922\n"
          ]
        },
        {
          "data": {
            "text/plain": [
              "<keras.callbacks.History at 0x7fb7ed8ad4b0>"
            ]
          },
          "execution_count": 45,
          "metadata": {},
          "output_type": "execute_result"
        }
      ],
      "source": [
        "# Defining the model\n",
        "model10 = keras.Sequential([\n",
        "    keras.layers.Dense(90, input_shape=(28*28,), activation='tanh'),\n",
        "    keras.layers.Dense(40, activation='tanh'),\n",
        "    keras.layers.Dense(20, activation='sigmoid'),\n",
        "    keras.layers.Dense(10, activation='sigmoid')\n",
        "])\n",
        "\n",
        "# Compiling the model\n",
        "model10.compile(optimizer='adam',\n",
        "              loss=keras.losses.SparseCategoricalCrossentropy(),\n",
        "              metrics=['accuracy'])\n",
        "\n",
        "# fitting the model\n",
        "model10.fit(X_train_flat, y_train, epochs=10)"
      ]
    },
    {
      "cell_type": "markdown",
      "metadata": {
        "id": "2prpJoI1NNjj"
      },
      "source": [
        "## **M11**"
      ]
    },
    {
      "cell_type": "code",
      "execution_count": null,
      "metadata": {
        "colab": {
          "base_uri": "https://localhost:8080/"
        },
        "id": "L1vcwvI2N3Tv",
        "outputId": "d560e10f-28f1-4cbe-d8a2-f72a5010e4a1"
      },
      "outputs": [
        {
          "name": "stdout",
          "output_type": "stream",
          "text": [
            "Epoch 1/10\n",
            "1466/1466 [==============================] - 6s 3ms/step - loss: 0.3563 - accuracy: 0.9050\n",
            "Epoch 2/10\n",
            "1466/1466 [==============================] - 4s 2ms/step - loss: 0.1502 - accuracy: 0.9549\n",
            "Epoch 3/10\n",
            "1466/1466 [==============================] - 3s 2ms/step - loss: 0.1125 - accuracy: 0.9662\n",
            "Epoch 4/10\n",
            "1466/1466 [==============================] - 4s 3ms/step - loss: 0.0882 - accuracy: 0.9737\n",
            "Epoch 5/10\n",
            "1466/1466 [==============================] - 4s 3ms/step - loss: 0.0738 - accuracy: 0.9774\n",
            "Epoch 6/10\n",
            "1466/1466 [==============================] - 4s 2ms/step - loss: 0.0632 - accuracy: 0.9806\n",
            "Epoch 7/10\n",
            "1466/1466 [==============================] - 4s 3ms/step - loss: 0.0551 - accuracy: 0.9832\n",
            "Epoch 8/10\n",
            "1466/1466 [==============================] - 4s 3ms/step - loss: 0.0487 - accuracy: 0.9853\n",
            "Epoch 9/10\n",
            "1466/1466 [==============================] - 4s 2ms/step - loss: 0.0419 - accuracy: 0.9873\n",
            "Epoch 10/10\n",
            "1466/1466 [==============================] - 4s 2ms/step - loss: 0.0370 - accuracy: 0.9888\n"
          ]
        },
        {
          "data": {
            "text/plain": [
              "<keras.callbacks.History at 0x7fb7ed173700>"
            ]
          },
          "execution_count": 22,
          "metadata": {},
          "output_type": "execute_result"
        }
      ],
      "source": [
        "# Defining the model\n",
        "model11 = keras.Sequential([\n",
        "    keras.layers.Dense(50, input_shape=(28*28,), activation='relu'),\n",
        "    keras.layers.Dense(30, activation='tanh'),\n",
        "    keras.layers.Dense(20, activation='tanh'),\n",
        "    keras.layers.Dense(10, activation='sigmoid')\n",
        "])\n",
        "\n",
        "# Compiling the model\n",
        "model11.compile(optimizer='adam',\n",
        "              loss=keras.losses.SparseCategoricalCrossentropy(),\n",
        "              metrics=['accuracy'])\n",
        "\n",
        "# fitting the model\n",
        "model11.fit(X_train_flat, y_train, epochs=10)"
      ]
    },
    {
      "cell_type": "markdown",
      "metadata": {
        "id": "WAbW0cULNNyJ"
      },
      "source": [
        "## **M12**"
      ]
    },
    {
      "cell_type": "code",
      "execution_count": null,
      "metadata": {
        "colab": {
          "base_uri": "https://localhost:8080/"
        },
        "id": "oSMafW5bN4CD",
        "outputId": "16e9e351-f070-46e9-aeb6-878584a41b88"
      },
      "outputs": [
        {
          "name": "stdout",
          "output_type": "stream",
          "text": [
            "Epoch 1/10\n",
            "1466/1466 [==============================] - 6s 3ms/step - loss: 0.5853 - accuracy: 0.8485\n",
            "Epoch 2/10\n",
            "1466/1466 [==============================] - 5s 3ms/step - loss: 0.2001 - accuracy: 0.9416\n",
            "Epoch 3/10\n",
            "1466/1466 [==============================] - 6s 4ms/step - loss: 0.1394 - accuracy: 0.9597\n",
            "Epoch 4/10\n",
            "1466/1466 [==============================] - 5s 3ms/step - loss: 0.1063 - accuracy: 0.9689\n",
            "Epoch 5/10\n",
            "1466/1466 [==============================] - 5s 3ms/step - loss: 0.0838 - accuracy: 0.9757\n",
            "Epoch 6/10\n",
            "1466/1466 [==============================] - 5s 4ms/step - loss: 0.0682 - accuracy: 0.9793\n",
            "Epoch 7/10\n",
            "1466/1466 [==============================] - 4s 3ms/step - loss: 0.0553 - accuracy: 0.9836\n",
            "Epoch 8/10\n",
            "1466/1466 [==============================] - 6s 4ms/step - loss: 0.0464 - accuracy: 0.9868\n",
            "Epoch 9/10\n",
            "1466/1466 [==============================] - 5s 3ms/step - loss: 0.0393 - accuracy: 0.9881\n",
            "Epoch 10/10\n",
            "1466/1466 [==============================] - 5s 3ms/step - loss: 0.0332 - accuracy: 0.9904\n"
          ]
        },
        {
          "data": {
            "text/plain": [
              "<keras.callbacks.History at 0x7fb7e7f0bb20>"
            ]
          },
          "execution_count": 23,
          "metadata": {},
          "output_type": "execute_result"
        }
      ],
      "source": [
        "# Defining the model\n",
        "model12 = keras.Sequential([\n",
        "    keras.layers.Dense(90, input_shape=(28*28,), activation='sigmoid'),\n",
        "    keras.layers.Dense(40, activation='sigmoid'),\n",
        "    keras.layers.Dense(20, activation='tanh'),\n",
        "    keras.layers.Dense(10, activation='sigmoid')\n",
        "])\n",
        "\n",
        "# Compiling the model\n",
        "model12.compile(optimizer='adam',\n",
        "              loss=keras.losses.SparseCategoricalCrossentropy(),\n",
        "              metrics=['accuracy'])\n",
        "\n",
        "# fitting the model\n",
        "model12.fit(X_train_flat, y_train, epochs=10)"
      ]
    },
    {
      "cell_type": "markdown",
      "metadata": {
        "id": "JEmbTPh1NOCT"
      },
      "source": [
        "## **M13**"
      ]
    },
    {
      "cell_type": "code",
      "execution_count": null,
      "metadata": {
        "colab": {
          "base_uri": "https://localhost:8080/"
        },
        "id": "uSikVj3uN4tK",
        "outputId": "b1642a04-83a6-4d4f-ddba-1c5b00993a4e"
      },
      "outputs": [
        {
          "name": "stdout",
          "output_type": "stream",
          "text": [
            "Epoch 1/10\n",
            "1466/1466 [==============================] - 6s 3ms/step - loss: 0.8018 - accuracy: 0.8012\n",
            "Epoch 2/10\n",
            "1466/1466 [==============================] - 4s 2ms/step - loss: 0.2621 - accuracy: 0.9320\n",
            "Epoch 3/10\n",
            "1466/1466 [==============================] - 4s 2ms/step - loss: 0.1801 - accuracy: 0.9509\n",
            "Epoch 4/10\n",
            "1466/1466 [==============================] - 4s 3ms/step - loss: 0.1391 - accuracy: 0.9606\n",
            "Epoch 5/10\n",
            "1466/1466 [==============================] - 4s 3ms/step - loss: 0.1143 - accuracy: 0.9679\n",
            "Epoch 6/10\n",
            "1466/1466 [==============================] - 3s 2ms/step - loss: 0.0971 - accuracy: 0.9726\n",
            "Epoch 7/10\n",
            "1466/1466 [==============================] - 3s 2ms/step - loss: 0.0835 - accuracy: 0.9758\n",
            "Epoch 8/10\n",
            "1466/1466 [==============================] - 5s 3ms/step - loss: 0.0743 - accuracy: 0.9785\n",
            "Epoch 9/10\n",
            "1466/1466 [==============================] - 4s 2ms/step - loss: 0.0658 - accuracy: 0.9819\n",
            "Epoch 10/10\n",
            "1466/1466 [==============================] - 3s 2ms/step - loss: 0.0576 - accuracy: 0.9831\n"
          ]
        },
        {
          "data": {
            "text/plain": [
              "<keras.callbacks.History at 0x7fb811a43ac0>"
            ]
          },
          "execution_count": 46,
          "metadata": {},
          "output_type": "execute_result"
        }
      ],
      "source": [
        "# Defining the model\n",
        "model13 = keras.Sequential([\n",
        "    keras.layers.Dense(50, input_shape=(28*28,), activation='sigmoid'),\n",
        "    keras.layers.Dense(30, activation='relu'),\n",
        "    keras.layers.Dense(20, activation='sigmoid'),\n",
        "    keras.layers.Dense(10, activation='sigmoid')\n",
        "])\n",
        "\n",
        "# Compiling the model\n",
        "model13.compile(optimizer='adam',\n",
        "              loss=keras.losses.SparseCategoricalCrossentropy(),\n",
        "              metrics=['accuracy'])\n",
        "\n",
        "# fitting the model\n",
        "model13.fit(X_train_flat, y_train, epochs=10)"
      ]
    },
    {
      "cell_type": "markdown",
      "metadata": {
        "id": "9L97krnsNOQP"
      },
      "source": [
        "## **M14**"
      ]
    },
    {
      "cell_type": "code",
      "execution_count": null,
      "metadata": {
        "colab": {
          "base_uri": "https://localhost:8080/"
        },
        "id": "LzlFTPWUN5WR",
        "outputId": "9b16b735-94d9-4cf5-ec77-77f0e664c9b6"
      },
      "outputs": [
        {
          "name": "stdout",
          "output_type": "stream",
          "text": [
            "Epoch 1/10\n",
            "1466/1466 [==============================] - 6s 4ms/step - loss: 0.4768 - accuracy: 0.8744\n",
            "Epoch 2/10\n",
            "1466/1466 [==============================] - 4s 3ms/step - loss: 0.2078 - accuracy: 0.9399\n",
            "Epoch 3/10\n",
            "1466/1466 [==============================] - 4s 3ms/step - loss: 0.1531 - accuracy: 0.9556\n",
            "Epoch 4/10\n",
            "1466/1466 [==============================] - 5s 4ms/step - loss: 0.1200 - accuracy: 0.9647\n",
            "Epoch 5/10\n",
            "1466/1466 [==============================] - 5s 3ms/step - loss: 0.0969 - accuracy: 0.9709\n",
            "Epoch 6/10\n",
            "1466/1466 [==============================] - 6s 4ms/step - loss: 0.0809 - accuracy: 0.9759\n",
            "Epoch 7/10\n",
            "1466/1466 [==============================] - 4s 3ms/step - loss: 0.0665 - accuracy: 0.9804\n",
            "Epoch 8/10\n",
            "1466/1466 [==============================] - 4s 3ms/step - loss: 0.0563 - accuracy: 0.9828\n",
            "Epoch 9/10\n",
            "1466/1466 [==============================] - 5s 4ms/step - loss: 0.0464 - accuracy: 0.9863\n",
            "Epoch 10/10\n",
            "1466/1466 [==============================] - 4s 3ms/step - loss: 0.0389 - accuracy: 0.9883\n"
          ]
        },
        {
          "data": {
            "text/plain": [
              "<keras.callbacks.History at 0x7fb8116d7970>"
            ]
          },
          "execution_count": 47,
          "metadata": {},
          "output_type": "execute_result"
        }
      ],
      "source": [
        "# Defining the model\n",
        "model14 = keras.Sequential([\n",
        "    keras.layers.Dense(80, input_shape=(28*28,), activation='sigmoid'),\n",
        "    keras.layers.Dense(20, activation='relu'),\n",
        "    keras.layers.Dense(10, activation='sigmoid')\n",
        "])\n",
        "\n",
        "# Compiling the model\n",
        "model14.compile(optimizer='adam',\n",
        "              loss=keras.losses.SparseCategoricalCrossentropy(),\n",
        "              metrics=['accuracy'])\n",
        "\n",
        "# fitting the model\n",
        "model14.fit(X_train_flat, y_train, epochs=10)"
      ]
    },
    {
      "cell_type": "markdown",
      "metadata": {
        "id": "B9R3uauSNOe-"
      },
      "source": [
        "## **M15**"
      ]
    },
    {
      "cell_type": "code",
      "execution_count": null,
      "metadata": {
        "colab": {
          "base_uri": "https://localhost:8080/"
        },
        "id": "b7z-2BnTN6Gz",
        "outputId": "6ce09808-1d17-4441-a08b-98d71b0c2c25"
      },
      "outputs": [
        {
          "name": "stdout",
          "output_type": "stream",
          "text": [
            "Epoch 1/10\n",
            "1466/1466 [==============================] - 5s 3ms/step - loss: 0.3130 - accuracy: 0.9162\n",
            "Epoch 2/10\n",
            "1466/1466 [==============================] - 5s 4ms/step - loss: 0.1294 - accuracy: 0.9618\n",
            "Epoch 3/10\n",
            "1466/1466 [==============================] - 4s 3ms/step - loss: 0.0894 - accuracy: 0.9733\n",
            "Epoch 4/10\n",
            "1466/1466 [==============================] - 5s 3ms/step - loss: 0.0700 - accuracy: 0.9786\n",
            "Epoch 5/10\n",
            "1466/1466 [==============================] - 5s 3ms/step - loss: 0.0558 - accuracy: 0.9827\n",
            "Epoch 6/10\n",
            "1466/1466 [==============================] - 4s 3ms/step - loss: 0.0440 - accuracy: 0.9864\n",
            "Epoch 7/10\n",
            "1466/1466 [==============================] - 5s 4ms/step - loss: 0.0359 - accuracy: 0.9891\n",
            "Epoch 8/10\n",
            "1466/1466 [==============================] - 4s 3ms/step - loss: 0.0322 - accuracy: 0.9896\n",
            "Epoch 9/10\n",
            "1466/1466 [==============================] - 4s 3ms/step - loss: 0.0252 - accuracy: 0.9925\n",
            "Epoch 10/10\n",
            "1466/1466 [==============================] - 5s 4ms/step - loss: 0.0234 - accuracy: 0.9926\n"
          ]
        },
        {
          "data": {
            "text/plain": [
              "<keras.callbacks.History at 0x7fb80fa29690>"
            ]
          },
          "execution_count": 48,
          "metadata": {},
          "output_type": "execute_result"
        }
      ],
      "source": [
        "# Defining the model\n",
        "model15 = keras.Sequential([\n",
        "    keras.layers.Dense(75, input_shape=(28*28,), activation='relu'),\n",
        "    keras.layers.Dense(25, activation='tanh'),\n",
        "    keras.layers.Dense(10, activation='sigmoid')\n",
        "])\n",
        "\n",
        "# Compiling the model\n",
        "model15.compile(optimizer='adam',\n",
        "              loss=keras.losses.SparseCategoricalCrossentropy(),\n",
        "              metrics=['accuracy'])\n",
        "\n",
        "# fitting the model\n",
        "model15.fit(X_train_flat, y_train, epochs=10)"
      ]
    },
    {
      "cell_type": "markdown",
      "metadata": {
        "id": "w6qv1z0vb5p4"
      },
      "source": [
        "## **Comparison**"
      ]
    },
    {
      "cell_type": "code",
      "execution_count": null,
      "metadata": {
        "colab": {
          "base_uri": "https://localhost:8080/",
          "height": 415
        },
        "id": "-99ORJQMcAqc",
        "outputId": "ddd21bde-8353-4280-a396-9b3b3d420930"
      },
      "outputs": [
        {
          "name": "stdout",
          "output_type": "stream",
          "text": [
            "Epoch 1/10\n",
            "1292/1466 [=========================>....] - ETA: 0s - loss: 0.0088 - accuracy: 0.9969"
          ]
        },
        {
          "ename": "KeyboardInterrupt",
          "evalue": "ignored",
          "output_type": "error",
          "traceback": [
            "\u001b[0;31m---------------------------------------------------------------------------\u001b[0m",
            "\u001b[0;31mKeyboardInterrupt\u001b[0m                         Traceback (most recent call last)",
            "\u001b[0;32m<ipython-input-49-9699881f581a>\u001b[0m in \u001b[0;36m<cell line: 2>\u001b[0;34m()\u001b[0m\n\u001b[1;32m      7\u001b[0m \u001b[0;34m\u001b[0m\u001b[0m\n\u001b[1;32m      8\u001b[0m   \u001b[0;31m#M1\u001b[0m\u001b[0;34m\u001b[0m\u001b[0;34m\u001b[0m\u001b[0m\n\u001b[0;32m----> 9\u001b[0;31m   \u001b[0mmodel1\u001b[0m\u001b[0;34m.\u001b[0m\u001b[0mfit\u001b[0m\u001b[0;34m(\u001b[0m\u001b[0mX_train_flat\u001b[0m\u001b[0;34m,\u001b[0m \u001b[0my_train\u001b[0m\u001b[0;34m,\u001b[0m \u001b[0mepochs\u001b[0m\u001b[0;34m=\u001b[0m\u001b[0;36m10\u001b[0m\u001b[0;34m)\u001b[0m\u001b[0;34m\u001b[0m\u001b[0;34m\u001b[0m\u001b[0m\n\u001b[0m\u001b[1;32m     10\u001b[0m   \u001b[0ml\u001b[0m\u001b[0;34m,\u001b[0m\u001b[0ma\u001b[0m\u001b[0;34m=\u001b[0m\u001b[0mmodel1\u001b[0m\u001b[0;34m.\u001b[0m\u001b[0mevaluate\u001b[0m\u001b[0;34m(\u001b[0m\u001b[0mX_test_flat\u001b[0m\u001b[0;34m,\u001b[0m\u001b[0my_test\u001b[0m\u001b[0;34m)\u001b[0m\u001b[0;34m\u001b[0m\u001b[0;34m\u001b[0m\u001b[0m\n\u001b[1;32m     11\u001b[0m   \u001b[0mmetrics\u001b[0m\u001b[0;34m[\u001b[0m\u001b[0;34m'Accuracy'\u001b[0m\u001b[0;34m]\u001b[0m\u001b[0;34m[\u001b[0m\u001b[0;34m'M1'\u001b[0m\u001b[0;34m]\u001b[0m\u001b[0;34m+=\u001b[0m\u001b[0ma\u001b[0m\u001b[0;34m\u001b[0m\u001b[0;34m\u001b[0m\u001b[0m\n",
            "\u001b[0;32m/usr/local/lib/python3.10/dist-packages/keras/utils/traceback_utils.py\u001b[0m in \u001b[0;36merror_handler\u001b[0;34m(*args, **kwargs)\u001b[0m\n\u001b[1;32m     63\u001b[0m         \u001b[0mfiltered_tb\u001b[0m \u001b[0;34m=\u001b[0m \u001b[0;32mNone\u001b[0m\u001b[0;34m\u001b[0m\u001b[0;34m\u001b[0m\u001b[0m\n\u001b[1;32m     64\u001b[0m         \u001b[0;32mtry\u001b[0m\u001b[0;34m:\u001b[0m\u001b[0;34m\u001b[0m\u001b[0;34m\u001b[0m\u001b[0m\n\u001b[0;32m---> 65\u001b[0;31m             \u001b[0;32mreturn\u001b[0m \u001b[0mfn\u001b[0m\u001b[0;34m(\u001b[0m\u001b[0;34m*\u001b[0m\u001b[0margs\u001b[0m\u001b[0;34m,\u001b[0m \u001b[0;34m**\u001b[0m\u001b[0mkwargs\u001b[0m\u001b[0;34m)\u001b[0m\u001b[0;34m\u001b[0m\u001b[0;34m\u001b[0m\u001b[0m\n\u001b[0m\u001b[1;32m     66\u001b[0m         \u001b[0;32mexcept\u001b[0m \u001b[0mException\u001b[0m \u001b[0;32mas\u001b[0m \u001b[0me\u001b[0m\u001b[0;34m:\u001b[0m\u001b[0;34m\u001b[0m\u001b[0;34m\u001b[0m\u001b[0m\n\u001b[1;32m     67\u001b[0m             \u001b[0mfiltered_tb\u001b[0m \u001b[0;34m=\u001b[0m \u001b[0m_process_traceback_frames\u001b[0m\u001b[0;34m(\u001b[0m\u001b[0me\u001b[0m\u001b[0;34m.\u001b[0m\u001b[0m__traceback__\u001b[0m\u001b[0;34m)\u001b[0m\u001b[0;34m\u001b[0m\u001b[0;34m\u001b[0m\u001b[0m\n",
            "\u001b[0;32m/usr/local/lib/python3.10/dist-packages/keras/engine/training.py\u001b[0m in \u001b[0;36mfit\u001b[0;34m(self, x, y, batch_size, epochs, verbose, callbacks, validation_split, validation_data, shuffle, class_weight, sample_weight, initial_epoch, steps_per_epoch, validation_steps, validation_batch_size, validation_freq, max_queue_size, workers, use_multiprocessing)\u001b[0m\n\u001b[1;32m   1683\u001b[0m                         ):\n\u001b[1;32m   1684\u001b[0m                             \u001b[0mcallbacks\u001b[0m\u001b[0;34m.\u001b[0m\u001b[0mon_train_batch_begin\u001b[0m\u001b[0;34m(\u001b[0m\u001b[0mstep\u001b[0m\u001b[0;34m)\u001b[0m\u001b[0;34m\u001b[0m\u001b[0;34m\u001b[0m\u001b[0m\n\u001b[0;32m-> 1685\u001b[0;31m                             \u001b[0mtmp_logs\u001b[0m \u001b[0;34m=\u001b[0m \u001b[0mself\u001b[0m\u001b[0;34m.\u001b[0m\u001b[0mtrain_function\u001b[0m\u001b[0;34m(\u001b[0m\u001b[0miterator\u001b[0m\u001b[0;34m)\u001b[0m\u001b[0;34m\u001b[0m\u001b[0;34m\u001b[0m\u001b[0m\n\u001b[0m\u001b[1;32m   1686\u001b[0m                             \u001b[0;32mif\u001b[0m \u001b[0mdata_handler\u001b[0m\u001b[0;34m.\u001b[0m\u001b[0mshould_sync\u001b[0m\u001b[0;34m:\u001b[0m\u001b[0;34m\u001b[0m\u001b[0;34m\u001b[0m\u001b[0m\n\u001b[1;32m   1687\u001b[0m                                 \u001b[0mcontext\u001b[0m\u001b[0;34m.\u001b[0m\u001b[0masync_wait\u001b[0m\u001b[0;34m(\u001b[0m\u001b[0;34m)\u001b[0m\u001b[0;34m\u001b[0m\u001b[0;34m\u001b[0m\u001b[0m\n",
            "\u001b[0;32m/usr/local/lib/python3.10/dist-packages/tensorflow/python/util/traceback_utils.py\u001b[0m in \u001b[0;36merror_handler\u001b[0;34m(*args, **kwargs)\u001b[0m\n\u001b[1;32m    148\u001b[0m     \u001b[0mfiltered_tb\u001b[0m \u001b[0;34m=\u001b[0m \u001b[0;32mNone\u001b[0m\u001b[0;34m\u001b[0m\u001b[0;34m\u001b[0m\u001b[0m\n\u001b[1;32m    149\u001b[0m     \u001b[0;32mtry\u001b[0m\u001b[0;34m:\u001b[0m\u001b[0;34m\u001b[0m\u001b[0;34m\u001b[0m\u001b[0m\n\u001b[0;32m--> 150\u001b[0;31m       \u001b[0;32mreturn\u001b[0m \u001b[0mfn\u001b[0m\u001b[0;34m(\u001b[0m\u001b[0;34m*\u001b[0m\u001b[0margs\u001b[0m\u001b[0;34m,\u001b[0m \u001b[0;34m**\u001b[0m\u001b[0mkwargs\u001b[0m\u001b[0;34m)\u001b[0m\u001b[0;34m\u001b[0m\u001b[0;34m\u001b[0m\u001b[0m\n\u001b[0m\u001b[1;32m    151\u001b[0m     \u001b[0;32mexcept\u001b[0m \u001b[0mException\u001b[0m \u001b[0;32mas\u001b[0m \u001b[0me\u001b[0m\u001b[0;34m:\u001b[0m\u001b[0;34m\u001b[0m\u001b[0;34m\u001b[0m\u001b[0m\n\u001b[1;32m    152\u001b[0m       \u001b[0mfiltered_tb\u001b[0m \u001b[0;34m=\u001b[0m \u001b[0m_process_traceback_frames\u001b[0m\u001b[0;34m(\u001b[0m\u001b[0me\u001b[0m\u001b[0;34m.\u001b[0m\u001b[0m__traceback__\u001b[0m\u001b[0;34m)\u001b[0m\u001b[0;34m\u001b[0m\u001b[0;34m\u001b[0m\u001b[0m\n",
            "\u001b[0;32m/usr/local/lib/python3.10/dist-packages/tensorflow/python/eager/polymorphic_function/polymorphic_function.py\u001b[0m in \u001b[0;36m__call__\u001b[0;34m(self, *args, **kwds)\u001b[0m\n\u001b[1;32m    892\u001b[0m \u001b[0;34m\u001b[0m\u001b[0m\n\u001b[1;32m    893\u001b[0m       \u001b[0;32mwith\u001b[0m \u001b[0mOptionalXlaContext\u001b[0m\u001b[0;34m(\u001b[0m\u001b[0mself\u001b[0m\u001b[0;34m.\u001b[0m\u001b[0m_jit_compile\u001b[0m\u001b[0;34m)\u001b[0m\u001b[0;34m:\u001b[0m\u001b[0;34m\u001b[0m\u001b[0;34m\u001b[0m\u001b[0m\n\u001b[0;32m--> 894\u001b[0;31m         \u001b[0mresult\u001b[0m \u001b[0;34m=\u001b[0m \u001b[0mself\u001b[0m\u001b[0;34m.\u001b[0m\u001b[0m_call\u001b[0m\u001b[0;34m(\u001b[0m\u001b[0;34m*\u001b[0m\u001b[0margs\u001b[0m\u001b[0;34m,\u001b[0m \u001b[0;34m**\u001b[0m\u001b[0mkwds\u001b[0m\u001b[0;34m)\u001b[0m\u001b[0;34m\u001b[0m\u001b[0;34m\u001b[0m\u001b[0m\n\u001b[0m\u001b[1;32m    895\u001b[0m \u001b[0;34m\u001b[0m\u001b[0m\n\u001b[1;32m    896\u001b[0m       \u001b[0mnew_tracing_count\u001b[0m \u001b[0;34m=\u001b[0m \u001b[0mself\u001b[0m\u001b[0;34m.\u001b[0m\u001b[0mexperimental_get_tracing_count\u001b[0m\u001b[0;34m(\u001b[0m\u001b[0;34m)\u001b[0m\u001b[0;34m\u001b[0m\u001b[0;34m\u001b[0m\u001b[0m\n",
            "\u001b[0;32m/usr/local/lib/python3.10/dist-packages/tensorflow/python/eager/polymorphic_function/polymorphic_function.py\u001b[0m in \u001b[0;36m_call\u001b[0;34m(self, *args, **kwds)\u001b[0m\n\u001b[1;32m    924\u001b[0m       \u001b[0;31m# In this case we have created variables on the first call, so we run the\u001b[0m\u001b[0;34m\u001b[0m\u001b[0;34m\u001b[0m\u001b[0m\n\u001b[1;32m    925\u001b[0m       \u001b[0;31m# defunned version which is guaranteed to never create variables.\u001b[0m\u001b[0;34m\u001b[0m\u001b[0;34m\u001b[0m\u001b[0m\n\u001b[0;32m--> 926\u001b[0;31m       \u001b[0;32mreturn\u001b[0m \u001b[0mself\u001b[0m\u001b[0;34m.\u001b[0m\u001b[0m_no_variable_creation_fn\u001b[0m\u001b[0;34m(\u001b[0m\u001b[0;34m*\u001b[0m\u001b[0margs\u001b[0m\u001b[0;34m,\u001b[0m \u001b[0;34m**\u001b[0m\u001b[0mkwds\u001b[0m\u001b[0;34m)\u001b[0m  \u001b[0;31m# pylint: disable=not-callable\u001b[0m\u001b[0;34m\u001b[0m\u001b[0;34m\u001b[0m\u001b[0m\n\u001b[0m\u001b[1;32m    927\u001b[0m     \u001b[0;32melif\u001b[0m \u001b[0mself\u001b[0m\u001b[0;34m.\u001b[0m\u001b[0m_variable_creation_fn\u001b[0m \u001b[0;32mis\u001b[0m \u001b[0;32mnot\u001b[0m \u001b[0;32mNone\u001b[0m\u001b[0;34m:\u001b[0m\u001b[0;34m\u001b[0m\u001b[0;34m\u001b[0m\u001b[0m\n\u001b[1;32m    928\u001b[0m       \u001b[0;31m# Release the lock early so that multiple threads can perform the call\u001b[0m\u001b[0;34m\u001b[0m\u001b[0;34m\u001b[0m\u001b[0m\n",
            "\u001b[0;32m/usr/local/lib/python3.10/dist-packages/tensorflow/python/eager/polymorphic_function/tracing_compiler.py\u001b[0m in \u001b[0;36m__call__\u001b[0;34m(self, *args, **kwargs)\u001b[0m\n\u001b[1;32m    141\u001b[0m       (concrete_function,\n\u001b[1;32m    142\u001b[0m        filtered_flat_args) = self._maybe_define_function(args, kwargs)\n\u001b[0;32m--> 143\u001b[0;31m     return concrete_function._call_flat(\n\u001b[0m\u001b[1;32m    144\u001b[0m         filtered_flat_args, captured_inputs=concrete_function.captured_inputs)  # pylint: disable=protected-access\n\u001b[1;32m    145\u001b[0m \u001b[0;34m\u001b[0m\u001b[0m\n",
            "\u001b[0;32m/usr/local/lib/python3.10/dist-packages/tensorflow/python/eager/polymorphic_function/monomorphic_function.py\u001b[0m in \u001b[0;36m_call_flat\u001b[0;34m(self, args, captured_inputs, cancellation_manager)\u001b[0m\n\u001b[1;32m   1755\u001b[0m         and executing_eagerly):\n\u001b[1;32m   1756\u001b[0m       \u001b[0;31m# No tape is watching; skip to running the function.\u001b[0m\u001b[0;34m\u001b[0m\u001b[0;34m\u001b[0m\u001b[0m\n\u001b[0;32m-> 1757\u001b[0;31m       return self._build_call_outputs(self._inference_function.call(\n\u001b[0m\u001b[1;32m   1758\u001b[0m           ctx, args, cancellation_manager=cancellation_manager))\n\u001b[1;32m   1759\u001b[0m     forward_backward = self._select_forward_and_backward_functions(\n",
            "\u001b[0;32m/usr/local/lib/python3.10/dist-packages/tensorflow/python/eager/polymorphic_function/monomorphic_function.py\u001b[0m in \u001b[0;36mcall\u001b[0;34m(self, ctx, args, cancellation_manager)\u001b[0m\n\u001b[1;32m    379\u001b[0m       \u001b[0;32mwith\u001b[0m \u001b[0m_InterpolateFunctionError\u001b[0m\u001b[0;34m(\u001b[0m\u001b[0mself\u001b[0m\u001b[0;34m)\u001b[0m\u001b[0;34m:\u001b[0m\u001b[0;34m\u001b[0m\u001b[0;34m\u001b[0m\u001b[0m\n\u001b[1;32m    380\u001b[0m         \u001b[0;32mif\u001b[0m \u001b[0mcancellation_manager\u001b[0m \u001b[0;32mis\u001b[0m \u001b[0;32mNone\u001b[0m\u001b[0;34m:\u001b[0m\u001b[0;34m\u001b[0m\u001b[0;34m\u001b[0m\u001b[0m\n\u001b[0;32m--> 381\u001b[0;31m           outputs = execute.execute(\n\u001b[0m\u001b[1;32m    382\u001b[0m               \u001b[0mstr\u001b[0m\u001b[0;34m(\u001b[0m\u001b[0mself\u001b[0m\u001b[0;34m.\u001b[0m\u001b[0msignature\u001b[0m\u001b[0;34m.\u001b[0m\u001b[0mname\u001b[0m\u001b[0;34m)\u001b[0m\u001b[0;34m,\u001b[0m\u001b[0;34m\u001b[0m\u001b[0;34m\u001b[0m\u001b[0m\n\u001b[1;32m    383\u001b[0m               \u001b[0mnum_outputs\u001b[0m\u001b[0;34m=\u001b[0m\u001b[0mself\u001b[0m\u001b[0;34m.\u001b[0m\u001b[0m_num_outputs\u001b[0m\u001b[0;34m,\u001b[0m\u001b[0;34m\u001b[0m\u001b[0;34m\u001b[0m\u001b[0m\n",
            "\u001b[0;32m/usr/local/lib/python3.10/dist-packages/tensorflow/python/eager/execute.py\u001b[0m in \u001b[0;36mquick_execute\u001b[0;34m(op_name, num_outputs, inputs, attrs, ctx, name)\u001b[0m\n\u001b[1;32m     50\u001b[0m   \u001b[0;32mtry\u001b[0m\u001b[0;34m:\u001b[0m\u001b[0;34m\u001b[0m\u001b[0;34m\u001b[0m\u001b[0m\n\u001b[1;32m     51\u001b[0m     \u001b[0mctx\u001b[0m\u001b[0;34m.\u001b[0m\u001b[0mensure_initialized\u001b[0m\u001b[0;34m(\u001b[0m\u001b[0;34m)\u001b[0m\u001b[0;34m\u001b[0m\u001b[0;34m\u001b[0m\u001b[0m\n\u001b[0;32m---> 52\u001b[0;31m     tensors = pywrap_tfe.TFE_Py_Execute(ctx._handle, device_name, op_name,\n\u001b[0m\u001b[1;32m     53\u001b[0m                                         inputs, attrs, num_outputs)\n\u001b[1;32m     54\u001b[0m   \u001b[0;32mexcept\u001b[0m \u001b[0mcore\u001b[0m\u001b[0;34m.\u001b[0m\u001b[0m_NotOkStatusException\u001b[0m \u001b[0;32mas\u001b[0m \u001b[0me\u001b[0m\u001b[0;34m:\u001b[0m\u001b[0;34m\u001b[0m\u001b[0;34m\u001b[0m\u001b[0m\n",
            "\u001b[0;31mKeyboardInterrupt\u001b[0m: "
          ]
        }
      ],
      "source": [
        "metrics=pd.DataFrame(columns=['Accuracy'],index=['M1','M2','M3','M4','M5','M6','M7','M8','M9','M10','M11','M12','M13','M14','M15'])\n",
        "for i in range(10):\n",
        "\n",
        "  X_train, X_test, y_train, y_test = train_test_split(X, y, test_size=0.33, random_state=i, shuffle=True)\n",
        "  X_train_flat=X_train.reshape(len(X_train),28*28)\n",
        "  X_test_flat=X_test.reshape(len(X_test),28*28)\n",
        "\n",
        "  #M1\n",
        "  model1.fit(X_train_flat, y_train, epochs=10)\n",
        "  l,a=model1.evaluate(X_test_flat,y_test)\n",
        "  metrics['Accuracy']['M1']+=a\n",
        "\n",
        "\n",
        "\n",
        "  #M2\n",
        "  model2.fit(X_train_flat, y_train, epochs=10)\n",
        "  l,a=model2.evaluate(X_test_flat,y_test)\n",
        "  metrics['Accuracy']['M2']+=a\n",
        "\n",
        "  #M3\n",
        "  model3.fit(X_train_flat, y_train, epochs=10)\n",
        "  l,a=model3.evaluate(X_test_flat,y_test)\n",
        "  metrics['Accuracy']['M3']+=a\n",
        "\n",
        "  #M4\n",
        "  model4.fit(X_train_flat, y_train, epochs=10)\n",
        "  l,a=model4.evaluate(X_test_flat,y_test)\n",
        "  metrics['Accuracy']['M4']+=a\n",
        "\n",
        "  #M5\n",
        "  model5.fit(X_train_flat, y_train, epochs=10)\n",
        "  l,a=model5.evaluate(X_test_flat,y_test)\n",
        "  metrics['Accuracy']['M5']+=a\n",
        "\n",
        "  #M6\n",
        "  model6.fit(X_train_flat, y_train, epochs=10)\n",
        "  l,a=model6.evaluate(X_test_flat,y_test)\n",
        "  metrics['Accuracy']['M6']+=a\n",
        "\n",
        "  #M7\n",
        "  model7.fit(X_train_flat, y_train, epochs=10)\n",
        "  l,a=model7.evaluate(X_test_flat,y_test)\n",
        "  metrics['Accuracy']['M7']=+a\n",
        "\n",
        "  #M8\n",
        "  model8.fit(X_train_flat, y_train, epochs=10)\n",
        "  l,a=model8.evaluate(X_test_flat,y_test)\n",
        "  metrics['Accuracy']['M8']=+a\n",
        "\n",
        "  #M9\n",
        "  model9.fit(X_train_flat, y_train, epochs=10)\n",
        "  l,a=model9.evaluate(X_test_flat,y_test)\n",
        "  metrics['Accuracy']['M9']=+a\n",
        "\n",
        "  #M10\n",
        "  model10.fit(X_train_flat, y_train, epochs=10)\n",
        "  l,a=model10.evaluate(X_test_flat,y_test)\n",
        "  metrics['Accuracy']['M10']=+a\n",
        "\n",
        "  #M11\n",
        "  model11.fit(X_train_flat, y_train, epochs=10)\n",
        "  l,a=model11.evaluate(X_test_flat,y_test)\n",
        "  metrics['Accuracy']['M11']=+a\n",
        "\n",
        "  #M12\n",
        "  model12.fit(X_train_flat, y_train, epochs=10)\n",
        "  l,a=model12.evaluate(X_test_flat,y_test)\n",
        "  metrics['Accuracy']['M12']=+a\n",
        "\n",
        "  #M13\n",
        "  model13.fit(X_train_flat, y_train, epochs=10)\n",
        "  l,a=model13.evaluate(X_test_flat,y_test)\n",
        "  metrics['Accuracy']['M13']=+a\n",
        "\n",
        "  #M14\n",
        "  model14.fit(X_train_flat, y_train, epochs=10)\n",
        "  l,a=model14.evaluate(X_test_flat,y_test)\n",
        "  metrics['Accuracy']['M14']=+a\n",
        "\n",
        "  #M15\n",
        "  model15.fit(X_train_flat, y_train, epochs=10)\n",
        "  l,a=model15.evaluate(X_test_flat,y_test)\n",
        "  metrics['Accuracy']['M15']=+a\n"
      ]
    },
    {
      "cell_type": "code",
      "execution_count": null,
      "metadata": {
        "id": "ByQ1eyGbZS7j"
      },
      "outputs": [],
      "source": [
        "def getAccConfMat():\n",
        "  metrics=pd.DataFrame(columns=['Accuracy'],index=['M1','M2','M3','M4','M5','M6','M7','M8','M9','M10','M11','M12','M13','M14','M15'])\n",
        "  for i in range(10):\n",
        "\n",
        "    X_train, X_test, y_train, y_test = train_test_split(X, y, test_size=0.33, random_state=i, shuffle=True)\n",
        "    X_train_flat=X_train.reshape(len(X_train),28*28)\n",
        "    X_test_flat=X_test.reshape(len(X_test),28*28)\n",
        "\n",
        "    #M1\n",
        "    model1.fit(X_train_flat, y_train, epochs=10)\n",
        "    l,a=model1.evaluate(X_test_flat,y_test)\n",
        "    metrics['Accuracy']['M1']+=a\n",
        "    y_pred=model1.predict(X_test_flat)\n",
        "    y_pred_number=getNumberPred(y_pred)\n",
        "    con_mat=con_mat=confusion_matrix(y_test,y_pred_number)\n",
        "    con_mat1=con_mat1+con_mat\n",
        "\n",
        "\n",
        "\n",
        "    #M2\n",
        "    model2.fit(X_train_flat, y_train, epochs=10)\n",
        "    l,a=model2.evaluate(X_test_flat,y_test)\n",
        "    metrics['Accuracy']['M2']+=a\n",
        "    y_pred=model2.predict(X_test_flat)\n",
        "    y_pred_number=getNumberPred(y_pred)\n",
        "    con_mat=confusion_matrix(y_test,y_pred_number)\n",
        "    con_mat2=con_mat2+con_mat\n",
        "\n",
        "    #M3\n",
        "    model3.fit(X_train_flat, y_train, epochs=10)\n",
        "    l,a=model3.evaluate(X_test_flat,y_test)\n",
        "    metrics['Accuracy']['M3']+=a\n",
        "    y_pred=model3.predict(X_test_flat)\n",
        "    y_pred_number=getNumberPred(y_pred)\n",
        "    con_mat=con_mat=confusion_matrix(y_test,y_pred_number)\n",
        "    con_mat3=con_mat3+con_mat\n",
        "\n",
        "    #M4\n",
        "    model4.fit(X_train_flat, y_train, epochs=10)\n",
        "    l,a=model4.evaluate(X_test_flat,y_test)\n",
        "    metrics['Accuracy']['M4']+=a\n",
        "    y_pred=model4.predict(X_test_flat)\n",
        "    y_pred_number=getNumberPred(y_pred)\n",
        "    con_mat=con_mat=confusion_matrix(y_test,y_pred_number)\n",
        "    con_mat4=con_mat4+con_mat\n",
        "\n",
        "    #M5\n",
        "    model5.fit(X_train_flat, y_train, epochs=10)\n",
        "    l,a=model5.evaluate(X_test_flat,y_test)\n",
        "    metrics['Accuracy']['M5']+=a\n",
        "    y_pred=model5.predict(X_test_flat)\n",
        "    y_pred_number=getNumberPred(y_pred)\n",
        "    con_mat=con_mat=confusion_matrix(y_test,y_pred_number)\n",
        "    con_mat5=con_mat5+con_mat\n",
        "\n",
        "    #M6\n",
        "    model6.fit(X_train_flat, y_train, epochs=10)\n",
        "    l,a=model6.evaluate(X_test_flat,y_test)\n",
        "    metrics['Accuracy']['M6']+=a\n",
        "    y_pred=model6.predict(X_test_flat)\n",
        "    y_pred_number=getNumberPred(y_pred)\n",
        "    con_mat=con_mat=confusion_matrix(y_test,y_pred_number)\n",
        "    con_mat6=con_mat6+con_mat\n",
        "\n",
        "    #M7\n",
        "    model7.fit(X_train_flat, y_train, epochs=10)\n",
        "    l,a=model7.evaluate(X_test_flat,y_test)\n",
        "    metrics['Accuracy']['M7']=+a\n",
        "    y_pred=model7.predict(X_test_flat)\n",
        "    y_pred_number=getNumberPred(y_pred)\n",
        "    con_mat=con_mat=confusion_matrix(y_test,y_pred_number)\n",
        "    con_mat7=con_mat7+con_matgetMetrics(y_pred_number,y_test,conf_mat)\n",
        "\n",
        "    #M8\n",
        "    model8.fit(X_train_flat, y_train, epochs=10)\n",
        "    l,a=model8.evaluate(X_test_flat,y_test)\n",
        "    metrics['Accuracy']['M8']=+a\n",
        "    y_pred=model8.predict(X_test_flat)\n",
        "    y_pred_number=getNumberPred(y_pred)\n",
        "    con_mat=con_mat=confusion_matrix(y_test,y_pred_number)\n",
        "    con_mat8=con_mat8+con_mat\n",
        "\n",
        "    #M9\n",
        "    model9.fit(X_train_flat, y_train, epochs=10)\n",
        "    l,a=model9.evaluate(X_test_flat,y_test)\n",
        "    metrics['Accuracy']['M9']=+a\n",
        "    y_pred=model9.predict(X_test_flat)\n",
        "    y_pred_number=getNumberPred(y_pred)\n",
        "    con_mat=con_mat=confusion_matrix(y_test,y_pred_number)\n",
        "    con_mat9=con_mat9+con_mat\n",
        "\n",
        "    #M10\n",
        "    model10.fit(X_train_flat, y_train, epochs=10)\n",
        "    l,a=model10.evaluate(X_test_flat,y_test)\n",
        "    metrics['Accuracy']['M10']=+a\n",
        "    y_pred=model10.predict(X_test_flat)\n",
        "    y_pred_number=getNumberPred(y_pred)\n",
        "    con_mat=con_mat=confusion_matrix(y_test,y_pred_number)\n",
        "    con_mat10=con_mat10+con_mat\n",
        "\n",
        "    #M11\n",
        "    model11.fit(X_train_flat, y_train, epochs=10)\n",
        "    l,a=model11.evaluate(X_test_flat,y_test)\n",
        "    metrics['Accuracy']['M11']=+a\n",
        "    y_pred=model11.predict(X_test_flat)\n",
        "    con_mat=con_mat=confusion_matrix(y_test,y_pred_number)\n",
        "    con_mat11=con_mat11+con_mat\n",
        "\n",
        "    #M12\n",
        "    model12.fit(X_train_flat, y_train, epochs=10)\n",
        "    l,a=model12.evaluate(X_test_flat,y_test)\n",
        "    metrics['Accuracy']['M12']=+a\n",
        "    y_pred=model12.predict(X_test_flat)\n",
        "    y_pred_number=getNumberPred(y_pred)\n",
        "    con_mat=con_mat=confusion_matrix(y_test,y_pred_number)\n",
        "    con_mat12=con_mat12+con_mat\n",
        "\n",
        "    #M13\n",
        "    model13.fit(X_train_flat, y_train, epochs=10)\n",
        "    l,a=model13.evaluate(X_test_flat,y_test)\n",
        "    metrics['Accuracy']['M13']=+a\n",
        "    y_pred=model13.predict(X_test_flat)\n",
        "    y_pred_number=getNumberPred(y_pred)\n",
        "    con_mat=con_mat=confusion_matrix(y_test,y_pred_number)\n",
        "    con_mat13=con_mat13+con_mat\n",
        "\n",
        "    #M14\n",
        "    model14.fit(X_train_flat, y_train, epochs=10)\n",
        "    l,a=model14.evaluate(X_test_flat,y_test)\n",
        "    metrics['Accuracy']['M14']=+a\n",
        "    y_pred=model14.predict(X_test_flat)\n",
        "    y_pred_number=getNumberPred(y_pred)\n",
        "    con_mat=con_mat=confusion_matrix(y_test,y_pred_number)\n",
        "    con_mat14=con_mat14+con_mat\n",
        "\n",
        "    #M15\n",
        "    model15.fit(X_train_flat, y_train, epochs=10)\n",
        "    l,a=model15.evaluate(X_test_flat,y_test)\n",
        "    metrics['Accuracy']['M15']=+a\n",
        "    y_pred=model15.predict(X_test_flat)\n",
        "    y_pred_number=getNumberPred(y_pred)\n",
        "    con_mat=con_mat=confusion_matrix(y_test,y_pred_number)\n",
        "    con_mat15=con_mat15+con_mat\n",
        "  return metrics,con_mat1,con_mat2,con_mat3,con_mat4,con_mat5,con_mat6,con_mat7,con_mat8,con_mat9,con_mat10,con_mat11,con_mat12,con_mat13,con_mat14,con_mat15\n"
      ]
    },
    {
      "cell_type": "code",
      "source": [
        "metrics,con_mat1,con_mat2,con_mat3,con_mat4,con_mat5,con_mat6,con_mat7,con_mat8,con_mat9,con_mat10,con_mat11,con_mat12,con_mat13,con_mat14,con_mat15=getAccConfMat()"
      ],
      "metadata": {
        "colab": {
          "base_uri": "https://localhost:8080/",
          "height": 435
        },
        "id": "5UkaxPZj0IZ3",
        "outputId": "ab8c3b0d-f7f9-45f4-dbe5-f4f13a8d2a98"
      },
      "execution_count": null,
      "outputs": [
        {
          "output_type": "stream",
          "name": "stdout",
          "text": [
            "1466/1466 [==============================] - 4s 3ms/step - loss: 0.0262 - accuracy: 0.9913\n",
            "Epoch 6/10\n",
            "1466/1466 [==============================] - 4s 3ms/step - loss: 0.0208 - accuracy: 0.9935\n",
            "Epoch 7/10\n",
            " 177/1466 [==>...........................] - ETA: 4s - loss: 0.0191 - accuracy: 0.9940"
          ]
        },
        {
          "output_type": "error",
          "ename": "KeyboardInterrupt",
          "evalue": "ignored",
          "traceback": [
            "\u001b[0;31m---------------------------------------------------------------------------\u001b[0m",
            "\u001b[0;31mKeyboardInterrupt\u001b[0m                         Traceback (most recent call last)",
            "\u001b[0;32m<ipython-input-37-f293d6b7d57d>\u001b[0m in \u001b[0;36m<cell line: 1>\u001b[0;34m()\u001b[0m\n\u001b[0;32m----> 1\u001b[0;31m \u001b[0mmetrics\u001b[0m\u001b[0;34m,\u001b[0m\u001b[0mcon_mat1\u001b[0m\u001b[0;34m,\u001b[0m\u001b[0mcon_mat2\u001b[0m\u001b[0;34m,\u001b[0m\u001b[0mcon_mat3\u001b[0m\u001b[0;34m,\u001b[0m\u001b[0mcon_mat4\u001b[0m\u001b[0;34m,\u001b[0m\u001b[0mcon_mat5\u001b[0m\u001b[0;34m,\u001b[0m\u001b[0mcon_mat6\u001b[0m\u001b[0;34m,\u001b[0m\u001b[0mcon_mat7\u001b[0m\u001b[0;34m,\u001b[0m\u001b[0mcon_mat8\u001b[0m\u001b[0;34m,\u001b[0m\u001b[0mcon_mat9\u001b[0m\u001b[0;34m,\u001b[0m\u001b[0mcon_mat10\u001b[0m\u001b[0;34m,\u001b[0m\u001b[0mcon_mat11\u001b[0m\u001b[0;34m,\u001b[0m\u001b[0mcon_mat12\u001b[0m\u001b[0;34m,\u001b[0m\u001b[0mcon_mat13\u001b[0m\u001b[0;34m,\u001b[0m\u001b[0mcon_mat14\u001b[0m\u001b[0;34m,\u001b[0m\u001b[0mcon_mat15\u001b[0m\u001b[0;34m=\u001b[0m\u001b[0mgetAccConfMat\u001b[0m\u001b[0;34m(\u001b[0m\u001b[0;34m)\u001b[0m\u001b[0;34m\u001b[0m\u001b[0;34m\u001b[0m\u001b[0m\n\u001b[0m",
            "\u001b[0;32m<ipython-input-36-171a796e30bb>\u001b[0m in \u001b[0;36mgetAccConfMat\u001b[0;34m()\u001b[0m\n\u001b[1;32m      8\u001b[0m \u001b[0;34m\u001b[0m\u001b[0m\n\u001b[1;32m      9\u001b[0m     \u001b[0;31m#M1\u001b[0m\u001b[0;34m\u001b[0m\u001b[0;34m\u001b[0m\u001b[0m\n\u001b[0;32m---> 10\u001b[0;31m     \u001b[0mmodel1\u001b[0m\u001b[0;34m.\u001b[0m\u001b[0mfit\u001b[0m\u001b[0;34m(\u001b[0m\u001b[0mX_train_flat\u001b[0m\u001b[0;34m,\u001b[0m \u001b[0my_train\u001b[0m\u001b[0;34m,\u001b[0m \u001b[0mepochs\u001b[0m\u001b[0;34m=\u001b[0m\u001b[0;36m10\u001b[0m\u001b[0;34m)\u001b[0m\u001b[0;34m\u001b[0m\u001b[0;34m\u001b[0m\u001b[0m\n\u001b[0m\u001b[1;32m     11\u001b[0m     \u001b[0ml\u001b[0m\u001b[0;34m,\u001b[0m\u001b[0ma\u001b[0m\u001b[0;34m=\u001b[0m\u001b[0mmodel1\u001b[0m\u001b[0;34m.\u001b[0m\u001b[0mevaluate\u001b[0m\u001b[0;34m(\u001b[0m\u001b[0mX_test_flat\u001b[0m\u001b[0;34m,\u001b[0m\u001b[0my_test\u001b[0m\u001b[0;34m)\u001b[0m\u001b[0;34m\u001b[0m\u001b[0;34m\u001b[0m\u001b[0m\n\u001b[1;32m     12\u001b[0m     \u001b[0mmetrics\u001b[0m\u001b[0;34m[\u001b[0m\u001b[0;34m'Accuracy'\u001b[0m\u001b[0;34m]\u001b[0m\u001b[0;34m[\u001b[0m\u001b[0;34m'M1'\u001b[0m\u001b[0;34m]\u001b[0m\u001b[0;34m+=\u001b[0m\u001b[0ma\u001b[0m\u001b[0;34m\u001b[0m\u001b[0;34m\u001b[0m\u001b[0m\n",
            "\u001b[0;32m/usr/local/lib/python3.10/dist-packages/keras/utils/traceback_utils.py\u001b[0m in \u001b[0;36merror_handler\u001b[0;34m(*args, **kwargs)\u001b[0m\n\u001b[1;32m     63\u001b[0m         \u001b[0mfiltered_tb\u001b[0m \u001b[0;34m=\u001b[0m \u001b[0;32mNone\u001b[0m\u001b[0;34m\u001b[0m\u001b[0;34m\u001b[0m\u001b[0m\n\u001b[1;32m     64\u001b[0m         \u001b[0;32mtry\u001b[0m\u001b[0;34m:\u001b[0m\u001b[0;34m\u001b[0m\u001b[0;34m\u001b[0m\u001b[0m\n\u001b[0;32m---> 65\u001b[0;31m             \u001b[0;32mreturn\u001b[0m \u001b[0mfn\u001b[0m\u001b[0;34m(\u001b[0m\u001b[0;34m*\u001b[0m\u001b[0margs\u001b[0m\u001b[0;34m,\u001b[0m \u001b[0;34m**\u001b[0m\u001b[0mkwargs\u001b[0m\u001b[0;34m)\u001b[0m\u001b[0;34m\u001b[0m\u001b[0;34m\u001b[0m\u001b[0m\n\u001b[0m\u001b[1;32m     66\u001b[0m         \u001b[0;32mexcept\u001b[0m \u001b[0mException\u001b[0m \u001b[0;32mas\u001b[0m \u001b[0me\u001b[0m\u001b[0;34m:\u001b[0m\u001b[0;34m\u001b[0m\u001b[0;34m\u001b[0m\u001b[0m\n\u001b[1;32m     67\u001b[0m             \u001b[0mfiltered_tb\u001b[0m \u001b[0;34m=\u001b[0m \u001b[0m_process_traceback_frames\u001b[0m\u001b[0;34m(\u001b[0m\u001b[0me\u001b[0m\u001b[0;34m.\u001b[0m\u001b[0m__traceback__\u001b[0m\u001b[0;34m)\u001b[0m\u001b[0;34m\u001b[0m\u001b[0;34m\u001b[0m\u001b[0m\n",
            "\u001b[0;32m/usr/local/lib/python3.10/dist-packages/keras/engine/training.py\u001b[0m in \u001b[0;36mfit\u001b[0;34m(self, x, y, batch_size, epochs, verbose, callbacks, validation_split, validation_data, shuffle, class_weight, sample_weight, initial_epoch, steps_per_epoch, validation_steps, validation_batch_size, validation_freq, max_queue_size, workers, use_multiprocessing)\u001b[0m\n\u001b[1;32m   1683\u001b[0m                         ):\n\u001b[1;32m   1684\u001b[0m                             \u001b[0mcallbacks\u001b[0m\u001b[0;34m.\u001b[0m\u001b[0mon_train_batch_begin\u001b[0m\u001b[0;34m(\u001b[0m\u001b[0mstep\u001b[0m\u001b[0;34m)\u001b[0m\u001b[0;34m\u001b[0m\u001b[0;34m\u001b[0m\u001b[0m\n\u001b[0;32m-> 1685\u001b[0;31m                             \u001b[0mtmp_logs\u001b[0m \u001b[0;34m=\u001b[0m \u001b[0mself\u001b[0m\u001b[0;34m.\u001b[0m\u001b[0mtrain_function\u001b[0m\u001b[0;34m(\u001b[0m\u001b[0miterator\u001b[0m\u001b[0;34m)\u001b[0m\u001b[0;34m\u001b[0m\u001b[0;34m\u001b[0m\u001b[0m\n\u001b[0m\u001b[1;32m   1686\u001b[0m                             \u001b[0;32mif\u001b[0m \u001b[0mdata_handler\u001b[0m\u001b[0;34m.\u001b[0m\u001b[0mshould_sync\u001b[0m\u001b[0;34m:\u001b[0m\u001b[0;34m\u001b[0m\u001b[0;34m\u001b[0m\u001b[0m\n\u001b[1;32m   1687\u001b[0m                                 \u001b[0mcontext\u001b[0m\u001b[0;34m.\u001b[0m\u001b[0masync_wait\u001b[0m\u001b[0;34m(\u001b[0m\u001b[0;34m)\u001b[0m\u001b[0;34m\u001b[0m\u001b[0;34m\u001b[0m\u001b[0m\n",
            "\u001b[0;32m/usr/local/lib/python3.10/dist-packages/tensorflow/python/util/traceback_utils.py\u001b[0m in \u001b[0;36merror_handler\u001b[0;34m(*args, **kwargs)\u001b[0m\n\u001b[1;32m    148\u001b[0m     \u001b[0mfiltered_tb\u001b[0m \u001b[0;34m=\u001b[0m \u001b[0;32mNone\u001b[0m\u001b[0;34m\u001b[0m\u001b[0;34m\u001b[0m\u001b[0m\n\u001b[1;32m    149\u001b[0m     \u001b[0;32mtry\u001b[0m\u001b[0;34m:\u001b[0m\u001b[0;34m\u001b[0m\u001b[0;34m\u001b[0m\u001b[0m\n\u001b[0;32m--> 150\u001b[0;31m       \u001b[0;32mreturn\u001b[0m \u001b[0mfn\u001b[0m\u001b[0;34m(\u001b[0m\u001b[0;34m*\u001b[0m\u001b[0margs\u001b[0m\u001b[0;34m,\u001b[0m \u001b[0;34m**\u001b[0m\u001b[0mkwargs\u001b[0m\u001b[0;34m)\u001b[0m\u001b[0;34m\u001b[0m\u001b[0;34m\u001b[0m\u001b[0m\n\u001b[0m\u001b[1;32m    151\u001b[0m     \u001b[0;32mexcept\u001b[0m \u001b[0mException\u001b[0m \u001b[0;32mas\u001b[0m \u001b[0me\u001b[0m\u001b[0;34m:\u001b[0m\u001b[0;34m\u001b[0m\u001b[0;34m\u001b[0m\u001b[0m\n\u001b[1;32m    152\u001b[0m       \u001b[0mfiltered_tb\u001b[0m \u001b[0;34m=\u001b[0m \u001b[0m_process_traceback_frames\u001b[0m\u001b[0;34m(\u001b[0m\u001b[0me\u001b[0m\u001b[0;34m.\u001b[0m\u001b[0m__traceback__\u001b[0m\u001b[0;34m)\u001b[0m\u001b[0;34m\u001b[0m\u001b[0;34m\u001b[0m\u001b[0m\n",
            "\u001b[0;32m/usr/local/lib/python3.10/dist-packages/tensorflow/python/eager/polymorphic_function/polymorphic_function.py\u001b[0m in \u001b[0;36m__call__\u001b[0;34m(self, *args, **kwds)\u001b[0m\n\u001b[1;32m    892\u001b[0m \u001b[0;34m\u001b[0m\u001b[0m\n\u001b[1;32m    893\u001b[0m       \u001b[0;32mwith\u001b[0m \u001b[0mOptionalXlaContext\u001b[0m\u001b[0;34m(\u001b[0m\u001b[0mself\u001b[0m\u001b[0;34m.\u001b[0m\u001b[0m_jit_compile\u001b[0m\u001b[0;34m)\u001b[0m\u001b[0;34m:\u001b[0m\u001b[0;34m\u001b[0m\u001b[0;34m\u001b[0m\u001b[0m\n\u001b[0;32m--> 894\u001b[0;31m         \u001b[0mresult\u001b[0m \u001b[0;34m=\u001b[0m \u001b[0mself\u001b[0m\u001b[0;34m.\u001b[0m\u001b[0m_call\u001b[0m\u001b[0;34m(\u001b[0m\u001b[0;34m*\u001b[0m\u001b[0margs\u001b[0m\u001b[0;34m,\u001b[0m \u001b[0;34m**\u001b[0m\u001b[0mkwds\u001b[0m\u001b[0;34m)\u001b[0m\u001b[0;34m\u001b[0m\u001b[0;34m\u001b[0m\u001b[0m\n\u001b[0m\u001b[1;32m    895\u001b[0m \u001b[0;34m\u001b[0m\u001b[0m\n\u001b[1;32m    896\u001b[0m       \u001b[0mnew_tracing_count\u001b[0m \u001b[0;34m=\u001b[0m \u001b[0mself\u001b[0m\u001b[0;34m.\u001b[0m\u001b[0mexperimental_get_tracing_count\u001b[0m\u001b[0;34m(\u001b[0m\u001b[0;34m)\u001b[0m\u001b[0;34m\u001b[0m\u001b[0;34m\u001b[0m\u001b[0m\n",
            "\u001b[0;32m/usr/local/lib/python3.10/dist-packages/tensorflow/python/eager/polymorphic_function/polymorphic_function.py\u001b[0m in \u001b[0;36m_call\u001b[0;34m(self, *args, **kwds)\u001b[0m\n\u001b[1;32m    924\u001b[0m       \u001b[0;31m# In this case we have created variables on the first call, so we run the\u001b[0m\u001b[0;34m\u001b[0m\u001b[0;34m\u001b[0m\u001b[0m\n\u001b[1;32m    925\u001b[0m       \u001b[0;31m# defunned version which is guaranteed to never create variables.\u001b[0m\u001b[0;34m\u001b[0m\u001b[0;34m\u001b[0m\u001b[0m\n\u001b[0;32m--> 926\u001b[0;31m       \u001b[0;32mreturn\u001b[0m \u001b[0mself\u001b[0m\u001b[0;34m.\u001b[0m\u001b[0m_no_variable_creation_fn\u001b[0m\u001b[0;34m(\u001b[0m\u001b[0;34m*\u001b[0m\u001b[0margs\u001b[0m\u001b[0;34m,\u001b[0m \u001b[0;34m**\u001b[0m\u001b[0mkwds\u001b[0m\u001b[0;34m)\u001b[0m  \u001b[0;31m# pylint: disable=not-callable\u001b[0m\u001b[0;34m\u001b[0m\u001b[0;34m\u001b[0m\u001b[0m\n\u001b[0m\u001b[1;32m    927\u001b[0m     \u001b[0;32melif\u001b[0m \u001b[0mself\u001b[0m\u001b[0;34m.\u001b[0m\u001b[0m_variable_creation_fn\u001b[0m \u001b[0;32mis\u001b[0m \u001b[0;32mnot\u001b[0m \u001b[0;32mNone\u001b[0m\u001b[0;34m:\u001b[0m\u001b[0;34m\u001b[0m\u001b[0;34m\u001b[0m\u001b[0m\n\u001b[1;32m    928\u001b[0m       \u001b[0;31m# Release the lock early so that multiple threads can perform the call\u001b[0m\u001b[0;34m\u001b[0m\u001b[0;34m\u001b[0m\u001b[0m\n",
            "\u001b[0;32m/usr/local/lib/python3.10/dist-packages/tensorflow/python/eager/polymorphic_function/tracing_compiler.py\u001b[0m in \u001b[0;36m__call__\u001b[0;34m(self, *args, **kwargs)\u001b[0m\n\u001b[1;32m    141\u001b[0m       (concrete_function,\n\u001b[1;32m    142\u001b[0m        filtered_flat_args) = self._maybe_define_function(args, kwargs)\n\u001b[0;32m--> 143\u001b[0;31m     return concrete_function._call_flat(\n\u001b[0m\u001b[1;32m    144\u001b[0m         filtered_flat_args, captured_inputs=concrete_function.captured_inputs)  # pylint: disable=protected-access\n\u001b[1;32m    145\u001b[0m \u001b[0;34m\u001b[0m\u001b[0m\n",
            "\u001b[0;32m/usr/local/lib/python3.10/dist-packages/tensorflow/python/eager/polymorphic_function/monomorphic_function.py\u001b[0m in \u001b[0;36m_call_flat\u001b[0;34m(self, args, captured_inputs, cancellation_manager)\u001b[0m\n\u001b[1;32m   1755\u001b[0m         and executing_eagerly):\n\u001b[1;32m   1756\u001b[0m       \u001b[0;31m# No tape is watching; skip to running the function.\u001b[0m\u001b[0;34m\u001b[0m\u001b[0;34m\u001b[0m\u001b[0m\n\u001b[0;32m-> 1757\u001b[0;31m       return self._build_call_outputs(self._inference_function.call(\n\u001b[0m\u001b[1;32m   1758\u001b[0m           ctx, args, cancellation_manager=cancellation_manager))\n\u001b[1;32m   1759\u001b[0m     forward_backward = self._select_forward_and_backward_functions(\n",
            "\u001b[0;32m/usr/local/lib/python3.10/dist-packages/tensorflow/python/eager/polymorphic_function/monomorphic_function.py\u001b[0m in \u001b[0;36mcall\u001b[0;34m(self, ctx, args, cancellation_manager)\u001b[0m\n\u001b[1;32m    379\u001b[0m       \u001b[0;32mwith\u001b[0m \u001b[0m_InterpolateFunctionError\u001b[0m\u001b[0;34m(\u001b[0m\u001b[0mself\u001b[0m\u001b[0;34m)\u001b[0m\u001b[0;34m:\u001b[0m\u001b[0;34m\u001b[0m\u001b[0;34m\u001b[0m\u001b[0m\n\u001b[1;32m    380\u001b[0m         \u001b[0;32mif\u001b[0m \u001b[0mcancellation_manager\u001b[0m \u001b[0;32mis\u001b[0m \u001b[0;32mNone\u001b[0m\u001b[0;34m:\u001b[0m\u001b[0;34m\u001b[0m\u001b[0;34m\u001b[0m\u001b[0m\n\u001b[0;32m--> 381\u001b[0;31m           outputs = execute.execute(\n\u001b[0m\u001b[1;32m    382\u001b[0m               \u001b[0mstr\u001b[0m\u001b[0;34m(\u001b[0m\u001b[0mself\u001b[0m\u001b[0;34m.\u001b[0m\u001b[0msignature\u001b[0m\u001b[0;34m.\u001b[0m\u001b[0mname\u001b[0m\u001b[0;34m)\u001b[0m\u001b[0;34m,\u001b[0m\u001b[0;34m\u001b[0m\u001b[0;34m\u001b[0m\u001b[0m\n\u001b[1;32m    383\u001b[0m               \u001b[0mnum_outputs\u001b[0m\u001b[0;34m=\u001b[0m\u001b[0mself\u001b[0m\u001b[0;34m.\u001b[0m\u001b[0m_num_outputs\u001b[0m\u001b[0;34m,\u001b[0m\u001b[0;34m\u001b[0m\u001b[0;34m\u001b[0m\u001b[0m\n",
            "\u001b[0;32m/usr/local/lib/python3.10/dist-packages/tensorflow/python/eager/execute.py\u001b[0m in \u001b[0;36mquick_execute\u001b[0;34m(op_name, num_outputs, inputs, attrs, ctx, name)\u001b[0m\n\u001b[1;32m     50\u001b[0m   \u001b[0;32mtry\u001b[0m\u001b[0;34m:\u001b[0m\u001b[0;34m\u001b[0m\u001b[0;34m\u001b[0m\u001b[0m\n\u001b[1;32m     51\u001b[0m     \u001b[0mctx\u001b[0m\u001b[0;34m.\u001b[0m\u001b[0mensure_initialized\u001b[0m\u001b[0;34m(\u001b[0m\u001b[0;34m)\u001b[0m\u001b[0;34m\u001b[0m\u001b[0;34m\u001b[0m\u001b[0m\n\u001b[0;32m---> 52\u001b[0;31m     tensors = pywrap_tfe.TFE_Py_Execute(ctx._handle, device_name, op_name,\n\u001b[0m\u001b[1;32m     53\u001b[0m                                         inputs, attrs, num_outputs)\n\u001b[1;32m     54\u001b[0m   \u001b[0;32mexcept\u001b[0m \u001b[0mcore\u001b[0m\u001b[0;34m.\u001b[0m\u001b[0m_NotOkStatusException\u001b[0m \u001b[0;32mas\u001b[0m \u001b[0me\u001b[0m\u001b[0;34m:\u001b[0m\u001b[0;34m\u001b[0m\u001b[0;34m\u001b[0m\u001b[0m\n",
            "\u001b[0;31mKeyboardInterrupt\u001b[0m: "
          ]
        }
      ]
    }
  ],
  "metadata": {
    "colab": {
      "provenance": [],
      "include_colab_link": true
    },
    "kernelspec": {
      "display_name": "Python 3",
      "name": "python3"
    },
    "language_info": {
      "name": "python"
    }
  },
  "nbformat": 4,
  "nbformat_minor": 0
}